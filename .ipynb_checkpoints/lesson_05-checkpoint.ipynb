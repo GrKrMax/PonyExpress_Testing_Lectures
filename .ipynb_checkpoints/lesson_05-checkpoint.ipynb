{
 "cells": [
  {
   "cell_type": "code",
   "execution_count": 1,
   "metadata": {},
   "outputs": [],
   "source": [
    "from selenium import webdriver\n",
    "from selenium.webdriver.common.keys import Keys\n",
    "from selenium.webdriver.common.by import By\n",
    "from selenium.webdriver.support.ui import WebDriverWait\n",
    "from selenium.webdriver.support import expected_conditions as EC"
   ]
  },
  {
   "cell_type": "code",
   "execution_count": 2,
   "metadata": {},
   "outputs": [],
   "source": [
    "import pathes"
   ]
  },
  {
   "cell_type": "code",
   "execution_count": 3,
   "metadata": {},
   "outputs": [],
   "source": [
    "def pony_driver_init():\n",
    "    driver = webdriver.Firefox(executable_path=pathes.driver_path)\n",
    "    driver.get(pathes.url_path)\n",
    "    try:\n",
    "        title = WebDriverWait(driver, 10).until(\n",
    "            EC.title_is('Пегас'))\n",
    "    except:\n",
    "        print('не загрузилось')\n",
    "        driver.close()\n",
    "        raise\n",
    "    return driver"
   ]
  },
  {
   "cell_type": "code",
   "execution_count": 4,
   "metadata": {},
   "outputs": [],
   "source": [
    "def pony_login(driver):\n",
    "    element_login = WebDriverWait(driver, 10).until(\n",
    "            EC.presence_of_element_located((By.NAME, 'login')))\n",
    "    element_password = WebDriverWait(driver, 10).until(\n",
    "            EC.presence_of_element_located((By.NAME, \"password\")))\n",
    "    enter_button = WebDriverWait(driver, 10).until(\n",
    "            EC.presence_of_element_located((By.CLASS_NAME, \"css-1hnkt5t\")))\n",
    "    element_login.send_keys(pathes.new_login)\n",
    "    element_password.send_keys(pathes.new_password)\n",
    "    enter_button.click()"
   ]
  },
  {
   "cell_type": "code",
   "execution_count": 5,
   "metadata": {},
   "outputs": [],
   "source": [
    "if __name__ == '__main__':\n",
    "    driver = pony_driver_init()\n",
    "    pony_login(driver)"
   ]
  },
  {
   "cell_type": "code",
   "execution_count": null,
   "metadata": {},
   "outputs": [],
   "source": []
  },
  {
   "cell_type": "code",
   "execution_count": null,
   "metadata": {},
   "outputs": [],
   "source": []
  },
  {
   "cell_type": "code",
   "execution_count": 12,
   "metadata": {},
   "outputs": [
    {
     "ename": "TimeoutException",
     "evalue": "Message: \n",
     "output_type": "error",
     "traceback": [
      "\u001b[1;31m---------------------------------------------------------------------------\u001b[0m",
      "\u001b[1;31mTimeoutException\u001b[0m                          Traceback (most recent call last)",
      "\u001b[1;32m<ipython-input-12-5843ed28127a>\u001b[0m in \u001b[0;36m<module>\u001b[1;34m\u001b[0m\n\u001b[1;32m----> 1\u001b[1;33m \u001b[0mbutton\u001b[0m \u001b[1;33m=\u001b[0m \u001b[0mWebDriverWait\u001b[0m\u001b[1;33m(\u001b[0m\u001b[0mdriver\u001b[0m\u001b[1;33m,\u001b[0m \u001b[1;36m10\u001b[0m\u001b[1;33m)\u001b[0m\u001b[1;33m.\u001b[0m\u001b[0muntil\u001b[0m\u001b[1;33m(\u001b[0m\u001b[0mEC\u001b[0m\u001b[1;33m.\u001b[0m\u001b[0mpresence_of_element_located\u001b[0m\u001b[1;33m(\u001b[0m\u001b[1;33m(\u001b[0m\u001b[0mBy\u001b[0m\u001b[1;33m.\u001b[0m\u001b[0mXPATH\u001b[0m\u001b[1;33m,\u001b[0m \u001b[1;34m'/html/body/div[1]/secion/section[1]/div/div/span/span/button'\u001b[0m\u001b[1;33m)\u001b[0m\u001b[1;33m)\u001b[0m\u001b[1;33m)\u001b[0m\u001b[1;33m\u001b[0m\u001b[1;33m\u001b[0m\u001b[0m\n\u001b[0m",
      "\u001b[1;32mC:\\ProgramData\\Anaconda3\\envs\\Coursera\\lib\\site-packages\\selenium\\webdriver\\support\\wait.py\u001b[0m in \u001b[0;36muntil\u001b[1;34m(self, method, message)\u001b[0m\n\u001b[0;32m     78\u001b[0m             \u001b[1;32mif\u001b[0m \u001b[0mtime\u001b[0m\u001b[1;33m.\u001b[0m\u001b[0mtime\u001b[0m\u001b[1;33m(\u001b[0m\u001b[1;33m)\u001b[0m \u001b[1;33m>\u001b[0m \u001b[0mend_time\u001b[0m\u001b[1;33m:\u001b[0m\u001b[1;33m\u001b[0m\u001b[1;33m\u001b[0m\u001b[0m\n\u001b[0;32m     79\u001b[0m                 \u001b[1;32mbreak\u001b[0m\u001b[1;33m\u001b[0m\u001b[1;33m\u001b[0m\u001b[0m\n\u001b[1;32m---> 80\u001b[1;33m         \u001b[1;32mraise\u001b[0m \u001b[0mTimeoutException\u001b[0m\u001b[1;33m(\u001b[0m\u001b[0mmessage\u001b[0m\u001b[1;33m,\u001b[0m \u001b[0mscreen\u001b[0m\u001b[1;33m,\u001b[0m \u001b[0mstacktrace\u001b[0m\u001b[1;33m)\u001b[0m\u001b[1;33m\u001b[0m\u001b[1;33m\u001b[0m\u001b[0m\n\u001b[0m\u001b[0;32m     81\u001b[0m \u001b[1;33m\u001b[0m\u001b[0m\n\u001b[0;32m     82\u001b[0m     \u001b[1;32mdef\u001b[0m \u001b[0muntil_not\u001b[0m\u001b[1;33m(\u001b[0m\u001b[0mself\u001b[0m\u001b[1;33m,\u001b[0m \u001b[0mmethod\u001b[0m\u001b[1;33m,\u001b[0m \u001b[0mmessage\u001b[0m\u001b[1;33m=\u001b[0m\u001b[1;34m''\u001b[0m\u001b[1;33m)\u001b[0m\u001b[1;33m:\u001b[0m\u001b[1;33m\u001b[0m\u001b[1;33m\u001b[0m\u001b[0m\n",
      "\u001b[1;31mTimeoutException\u001b[0m: Message: \n"
     ]
    }
   ],
   "source": [
    "try:\n",
    "    button = WebDriverWait(driver, 10).until(\n",
    "        EC.presence_of_element_located((By.XPATH, \n",
    "                                        '/html/body/div[1]/secion/section[1]/div/div/span/span/button')))\n",
    "except:\n",
    "    "
   ]
  },
  {
   "cell_type": "code",
   "execution_count": null,
   "metadata": {},
   "outputs": [],
   "source": [
    "button"
   ]
  },
  {
   "cell_type": "code",
   "execution_count": 29,
   "metadata": {},
   "outputs": [],
   "source": [
    "driver.switch_to.window(driver.window_handles[1])"
   ]
  },
  {
   "cell_type": "code",
   "execution_count": 31,
   "metadata": {},
   "outputs": [],
   "source": [
    "but = WebDriverWait(driver, 10).until(\n",
    "        EC.element_to_be_clickable((\n",
    "            By.XPATH, \n",
    "            '/html/body/div[3]/div/div[2]/div/div[2]/form/div[2]/button')))\n",
    "but.click()"
   ]
  },
  {
   "cell_type": "code",
   "execution_count": 16,
   "metadata": {},
   "outputs": [
    {
     "data": {
      "text/plain": [
       "['18', '40']"
      ]
     },
     "execution_count": 16,
     "metadata": {},
     "output_type": "execute_result"
    }
   ],
   "source": [
    "driver.window_handles"
   ]
  },
  {
   "cell_type": "code",
   "execution_count": 59,
   "metadata": {},
   "outputs": [],
   "source": [
    "driver.close()"
   ]
  },
  {
   "cell_type": "code",
   "execution_count": 60,
   "metadata": {},
   "outputs": [
    {
     "data": {
      "text/plain": [
       "['44']"
      ]
     },
     "execution_count": 60,
     "metadata": {},
     "output_type": "execute_result"
    }
   ],
   "source": [
    "driver.window_handles\n",
    "\n",
    "driver.switch_to_window(driver.window_handles[0])\n",
    "driver.close()"
   ]
  },
  {
   "cell_type": "code",
   "execution_count": null,
   "metadata": {},
   "outputs": [],
   "source": []
  },
  {
   "cell_type": "code",
   "execution_count": 33,
   "metadata": {},
   "outputs": [],
   "source": [
    "elem = driver.find_element_by_xpath(\n",
    "    '/html/body/div[1]/section/section[2]/section/section/div/div/div[1]/div[1]/button[4]/span[2]')"
   ]
  },
  {
   "cell_type": "code",
   "execution_count": 34,
   "metadata": {},
   "outputs": [
    {
     "data": {
      "text/plain": [
       "'Удалить группу'"
      ]
     },
     "execution_count": 34,
     "metadata": {},
     "output_type": "execute_result"
    }
   ],
   "source": [
    "elem.text"
   ]
  },
  {
   "cell_type": "markdown",
   "metadata": {},
   "source": [
    "## Файлы"
   ]
  },
  {
   "cell_type": "markdown",
   "metadata": {},
   "source": [
    "'r'\tоткрытие на чтение (является значением по умолчанию).\n",
    "\n",
    "'w'\tоткрытие на запись, содержимое файла удаляется, если файла не существует, создается новый.\n",
    "\n",
    "'x'\tоткрытие на запись, если файла не существует, иначе исключение.\n",
    "\n",
    "'a'\tоткрытие на дозапись, информация добавляется в конец файла.\n",
    "\n",
    "'b'\tоткрытие в двоичном режиме.\n",
    "\n",
    "'t'\tоткрытие в текстовом режиме (является значением по умолчанию).\n",
    "\n",
    "'+'\tоткрытие на чтение и запись"
   ]
  },
  {
   "cell_type": "code",
   "execution_count": 22,
   "metadata": {},
   "outputs": [],
   "source": [
    "f = open('login.py', 'r')"
   ]
  },
  {
   "cell_type": "code",
   "execution_count": 19,
   "metadata": {},
   "outputs": [
    {
     "name": "stdout",
     "output_type": "stream",
     "text": [
      "#!/usr/bin/env python\n",
      "# coding: utf-8\n",
      "\n",
      "# In[1]:\n",
      "\n",
      "\n",
      "from selenium import webdriver\n",
      "from selenium.webdriver.common.keys import Keys\n",
      "from selenium.webdriver.common.by import By\n",
      "from selenium.webdriver.support.ui import WebDriverWait\n",
      "from selenium.webdriver.support import expected_conditions as EC\n",
      "\n",
      "\n",
      "# In[2]:\n",
      "\n",
      "\n",
      "import pathes\n",
      "\n",
      "\n",
      "# In[3]:\n",
      "\n",
      "\n",
      "def pony_driver_init():\n",
      "    driver = webdriver.Firefox(executable_path=pathes.driver_path)\n",
      "    driver.get(pathes.url_path)\n",
      "    try:\n",
      "        title = WebDriverWait(driver, 10).until(\n",
      "            EC.title_is('РџРµРіР°СЃ'))\n",
      "    except:\n",
      "        print('РЅРµ Р·Р°РіСЂСѓР·РёР»РѕСЃСЊ')\n",
      "        driver.close()\n",
      "        raise\n",
      "    return driver\n",
      "\n",
      "\n",
      "# In[4]:\n",
      "\n",
      "\n",
      "def pony_login(driver):\n",
      "    element_login = WebDriverWait(driver, 10).until(\n",
      "            EC.presence_of_element_located((By.NAME, 'login')))\n",
      "    element_password = WebDriverWait(driver, 10).until(\n",
      "            EC.presence_of_element_located((By.NAME, \"password\")))\n",
      "    enter_button = WebDriverWait(driver, 10).until(\n",
      "            EC.presence_of_element_located((By.CLASS_NAME, \"css-1hnkt5t\")))\n",
      "    element_login.send_keys(pathes.login)\n",
      "    element_password.send_keys(pathes.password)\n",
      "    enter_button.click()\n",
      "\n",
      "\n",
      "# In[5]:\n",
      "\n",
      "\n",
      "if __name__ == '__main__':\n",
      "    driver = pony_driver_init()\n",
      "    pony_login(driver)\n",
      "\n",
      "\n",
      "# In[ ]:\n",
      "\n",
      "\n",
      "\n",
      "\n",
      "\n"
     ]
    }
   ],
   "source": [
    "prog = f.read()\n",
    "print(prog)"
   ]
  },
  {
   "cell_type": "code",
   "execution_count": 23,
   "metadata": {},
   "outputs": [
    {
     "name": "stdout",
     "output_type": "stream",
     "text": [
      "#!/usr/bin/env python\n",
      "\n",
      "# coding: utf-8\n",
      "\n",
      "\n",
      "\n",
      "# In[1]:\n",
      "\n",
      "\n",
      "\n",
      "\n",
      "\n",
      "from selenium import webdriver\n",
      "\n",
      "from selenium.webdriver.common.keys import Keys\n",
      "\n",
      "from selenium.webdriver.common.by import By\n",
      "\n",
      "from selenium.webdriver.support.ui import WebDriverWait\n",
      "\n",
      "from selenium.webdriver.support import expected_conditions as EC\n",
      "\n",
      "\n",
      "\n",
      "\n",
      "\n",
      "# In[2]:\n",
      "\n",
      "\n",
      "\n",
      "\n",
      "\n",
      "import pathes\n",
      "\n",
      "\n",
      "\n",
      "\n",
      "\n",
      "# In[3]:\n",
      "\n",
      "\n",
      "\n",
      "\n",
      "\n",
      "def pony_driver_init():\n",
      "\n",
      "    driver = webdriver.Firefox(executable_path=pathes.driver_path)\n",
      "\n",
      "    driver.get(pathes.url_path)\n",
      "\n",
      "    try:\n",
      "\n",
      "        title = WebDriverWait(driver, 10).until(\n",
      "\n",
      "            EC.title_is('РџРµРіР°СЃ'))\n",
      "\n",
      "    except:\n",
      "\n",
      "        print('РЅРµ Р·Р°РіСЂСѓР·РёР»РѕСЃСЊ')\n",
      "\n",
      "        driver.close()\n",
      "\n",
      "        raise\n",
      "\n",
      "    return driver\n",
      "\n",
      "\n",
      "\n",
      "\n",
      "\n",
      "# In[4]:\n",
      "\n",
      "\n",
      "\n",
      "\n",
      "\n",
      "def pony_login(driver):\n",
      "\n",
      "    element_login = WebDriverWait(driver, 10).until(\n",
      "\n",
      "            EC.presence_of_element_located((By.NAME, 'login')))\n",
      "\n",
      "    element_password = WebDriverWait(driver, 10).until(\n",
      "\n",
      "            EC.presence_of_element_located((By.NAME, \"password\")))\n",
      "\n",
      "    enter_button = WebDriverWait(driver, 10).until(\n",
      "\n",
      "            EC.presence_of_element_located((By.CLASS_NAME, \"css-1hnkt5t\")))\n",
      "\n",
      "    element_login.send_keys(pathes.login)\n",
      "\n",
      "    element_password.send_keys(pathes.password)\n",
      "\n",
      "    enter_button.click()\n",
      "\n",
      "\n",
      "\n",
      "\n",
      "\n",
      "# In[5]:\n",
      "\n",
      "\n",
      "\n",
      "\n",
      "\n",
      "if __name__ == '__main__':\n",
      "\n",
      "    driver = pony_driver_init()\n",
      "\n",
      "    pony_login(driver)\n",
      "\n",
      "\n",
      "\n",
      "\n",
      "\n",
      "# In[ ]:\n",
      "\n",
      "\n",
      "\n",
      "\n",
      "\n",
      "\n",
      "\n",
      "\n",
      "\n"
     ]
    }
   ],
   "source": [
    "for i in f:\n",
    "    print(i)"
   ]
  },
  {
   "cell_type": "code",
   "execution_count": 24,
   "metadata": {},
   "outputs": [],
   "source": [
    "f.close()"
   ]
  },
  {
   "cell_type": "code",
   "execution_count": 35,
   "metadata": {},
   "outputs": [],
   "source": [
    "with open('logfile.txt', 'w') as f:\n",
    "    f.write('helloworld')"
   ]
  },
  {
   "cell_type": "code",
   "execution_count": 36,
   "metadata": {},
   "outputs": [
    {
     "name": "stdout",
     "output_type": "stream",
     "text": [
      "helloworld\n"
     ]
    }
   ],
   "source": [
    "with open('logfile.txt', 'a') as f:\n",
    "    print(f.read())"
   ]
  },
  {
   "cell_type": "code",
   "execution_count": null,
   "metadata": {},
   "outputs": [],
   "source": []
  },
  {
   "cell_type": "code",
   "execution_count": 9,
   "metadata": {},
   "outputs": [
    {
     "name": "stderr",
     "output_type": "stream",
     "text": [
      "C:\\ProgramData\\Anaconda3\\envs\\Coursera\\lib\\site-packages\\ipykernel_launcher.py:2: DeprecationWarning: use driver.switch_to.window instead\n",
      "  \n"
     ]
    }
   ],
   "source": [
    "driver.window_handles\n",
    "driver.switch_to_window('40')"
   ]
  },
  {
   "cell_type": "code",
   "execution_count": 16,
   "metadata": {},
   "outputs": [
    {
     "name": "stdout",
     "output_type": "stream",
     "text": [
      "err\n"
     ]
    }
   ],
   "source": [
    "elem = driver.find_element_by_xpath(\n",
    "    '/html/body/div[1]/section/section[2]/section/section/div[2]/div[3]/div[2]/div/div')\n",
    "if elem.get_attribute('style') == 'background-color: rgb(194, 48, 48);':\n",
    "    print('err')"
   ]
  },
  {
   "cell_type": "code",
   "execution_count": null,
   "metadata": {},
   "outputs": [],
   "source": [
    "elem.send_keys('\\n')"
   ]
  }
 ],
 "metadata": {
  "kernelspec": {
   "display_name": "Python 3",
   "language": "python",
   "name": "python3"
  },
  "language_info": {
   "codemirror_mode": {
    "name": "ipython",
    "version": 3
   },
   "file_extension": ".py",
   "mimetype": "text/x-python",
   "name": "python",
   "nbconvert_exporter": "python",
   "pygments_lexer": "ipython3",
   "version": "3.6.8"
  }
 },
 "nbformat": 4,
 "nbformat_minor": 2
}
