{
 "cells": [
  {
   "cell_type": "code",
   "execution_count": 1,
   "metadata": {},
   "outputs": [],
   "source": [
    "import requests\n",
    "import json\n",
    "from selenium import webdriver\n",
    "import pathes"
   ]
  },
  {
   "cell_type": "code",
   "execution_count": 2,
   "metadata": {},
   "outputs": [],
   "source": [
    "urls = [\n",
    "    'http://configurations-backend-edu.pegasus.ponyex.local/',\n",
    "    'http://couriers-backend-edu.pegasus.ponyex.local/',\n",
    "    'http://delivery-edu.pegasus.ponyex.local/',\n",
    "    'http://delivery-backend-edu.pegasus.ponyex.local/',\n",
    "    'http://enumerations-backend-edu.pegasus.ponyex.local/',\n",
    "    'http://events-edu.pegasus.ponyex.local/',\n",
    "    'http://events-backend-edu.pegasus.ponyex.local/',\n",
    "    'http://geography-edu.pegasus.ponyex.local/',\n",
    "    'http://geography-backend-edu.pegasus.ponyex.local/',\n",
    "    'http://localizations-backend-edu.pegasus.ponyex.local/',\n",
    "    'http://organization-backend-edu.pegasus.ponyex.local/',\n",
    "    'http://warehouses-edu.pegasus.ponyex.local/',\n",
    "    'http://warehouses-backend-edu.pegasus.ponyex.local/',\n",
    "    'http://waybills-backend-edu.pegasus.ponyex.local/',]\n",
    "\n",
    "swagger_tail = 'api/manual/index.html'"
   ]
  },
  {
   "cell_type": "markdown",
   "metadata": {},
   "source": [
    "# swagger "
   ]
  },
  {
   "cell_type": "code",
   "execution_count": 6,
   "metadata": {},
   "outputs": [],
   "source": [
    "swagger_urls = []\n",
    "for url in urls:\n",
    "    swagger_urls.append(url + swagger_tail)"
   ]
  },
  {
   "cell_type": "code",
   "execution_count": 7,
   "metadata": {},
   "outputs": [],
   "source": [
    "driver = webdriver.Firefox(executable_path=pathes.driver_path)\n",
    "driver.get(urls[8] + swagger_tail)"
   ]
  },
  {
   "cell_type": "markdown",
   "metadata": {},
   "source": [
    "# auth"
   ]
  },
  {
   "cell_type": "code",
   "execution_count": 5,
   "metadata": {},
   "outputs": [],
   "source": [
    "def auth_ (login, password):\n",
    "    headers = {'Content-Type': 'application/x-www-form-urlencoded'}\n",
    "    data = {'username': login, \n",
    "              'password': password, \n",
    "              'grant_type': 'password', \n",
    "              'scope': 'pegasus', \n",
    "              'client_id': 'pegasus-v2', \n",
    "              'client_secret': 'secret'}\n",
    "    url = \"http://srv-pnew-01-test:1001/auth/connect/token\"\n",
    "    r = requests.post(url, data = data, headers = headers)\n",
    "    answer = json.loads(r.text)\n",
    "    tok = answer[\"access_token\"]\n",
    "    return tok"
   ]
  },
  {
   "cell_type": "code",
   "execution_count": 6,
   "metadata": {},
   "outputs": [],
   "source": [
    "tok = auth_(pathes.new_login, pathes.new_password)"
   ]
  },
  {
   "cell_type": "markdown",
   "metadata": {},
   "source": [
    "# запросы"
   ]
  },
  {
   "cell_type": "code",
   "execution_count": 126,
   "metadata": {},
   "outputs": [],
   "source": [
    "r = requests.get(urls[12] + '/api/v1/condition-parameters/get-all',\n",
    "                headers={'Authorization': f'Bearer {tok}'})"
   ]
  },
  {
   "cell_type": "code",
   "execution_count": 129,
   "metadata": {},
   "outputs": [
    {
     "data": {
      "text/plain": [
       "{'result': [{'code': 11002,\n",
       "   'name': 'Макс. вес одного места',\n",
       "   'description': 'Максимальный вес одного места из отправления (в\\xa0кг)',\n",
       "   'availableOperands': 'Equal, NotEqual, GreaterThan, LessThan, GreaterThanOrEqual, LessThanOrEqual',\n",
       "   'availableOperandNames': ['Equal',\n",
       "    'NotEqual',\n",
       "    'GreaterThan',\n",
       "    'LessThan',\n",
       "    'GreaterThanOrEqual',\n",
       "    'LessThanOrEqual'],\n",
       "   'conditionType': 'Single'},\n",
       "  {'code': 11003,\n",
       "   'name': 'Количество мест',\n",
       "   'description': 'Количество мест по отправлению (в шт.)',\n",
       "   'availableOperands': 'Equal, NotEqual, GreaterThan, LessThan, GreaterThanOrEqual, LessThanOrEqual',\n",
       "   'availableOperandNames': ['Equal',\n",
       "    'NotEqual',\n",
       "    'GreaterThan',\n",
       "    'LessThan',\n",
       "    'GreaterThanOrEqual',\n",
       "    'LessThanOrEqual'],\n",
       "   'conditionType': 'Single'},\n",
       "  {'code': 11004,\n",
       "   'name': 'Услуга',\n",
       "   'description': 'Услуга присутствует в накладной',\n",
       "   'availableOperands': 'Equal, NotEqual',\n",
       "   'availableOperandNames': ['Equal', 'NotEqual'],\n",
       "   'conditionType': 'Single'},\n",
       "  {'code': 11007,\n",
       "   'name': 'Узел отправителя',\n",
       "   'description': 'Идентификатор узла отправителя',\n",
       "   'availableOperands': 'Exists, NotExists',\n",
       "   'availableOperandNames': ['Exists', 'NotExists'],\n",
       "   'conditionType': 'Multiple'},\n",
       "  {'code': 11008,\n",
       "   'name': 'Наличие события',\n",
       "   'description': 'Проверяет наличие события зарегистрированного на сервисе Событий (Events). Проверка осуществляется по коду события (например, 71, 99 и т.д.)',\n",
       "   'availableOperands': 'Exists',\n",
       "   'availableOperandNames': ['Exists'],\n",
       "   'conditionType': 'Multiple'},\n",
       "  {'code': 11005,\n",
       "   'name': 'Тип накладной',\n",
       "   'description': 'Тип накладной',\n",
       "   'availableOperands': 'Exists, NotExists',\n",
       "   'availableOperandNames': ['Exists', 'NotExists'],\n",
       "   'conditionType': 'Multiple'},\n",
       "  {'code': 11006,\n",
       "   'name': 'Вес по накладной',\n",
       "   'description': 'Общий вес всех мест накладной (в кг)',\n",
       "   'availableOperands': 'Equal, NotEqual, GreaterThan, LessThan, GreaterThanOrEqual, LessThanOrEqual',\n",
       "   'availableOperandNames': ['Equal',\n",
       "    'NotEqual',\n",
       "    'GreaterThan',\n",
       "    'LessThan',\n",
       "    'GreaterThanOrEqual',\n",
       "    'LessThanOrEqual'],\n",
       "   'conditionType': 'Single'},\n",
       "  {'code': 11009,\n",
       "   'name': 'Маршрут УОК',\n",
       "   'description': 'Определение УОК для отправки',\n",
       "   'availableOperands': 'Exists, NotExists',\n",
       "   'availableOperandNames': ['Exists', 'NotExists'],\n",
       "   'conditionType': 'Multiple'},\n",
       "  {'code': 11010,\n",
       "   'name': 'Маршрут ГКО',\n",
       "   'description': 'Определение маршрута ГКО',\n",
       "   'availableOperands': 'Exists, NotExists',\n",
       "   'availableOperandNames': ['Exists', 'NotExists'],\n",
       "   'conditionType': 'Multiple'},\n",
       "  {'code': 11013,\n",
       "   'name': 'Макс. сумма измерений одного места',\n",
       "   'description': 'Максимальная сумма измерений одного места (в см)',\n",
       "   'availableOperands': 'Equal, NotEqual, GreaterThan, LessThan, GreaterThanOrEqual, LessThanOrEqual',\n",
       "   'availableOperandNames': ['Equal',\n",
       "    'NotEqual',\n",
       "    'GreaterThan',\n",
       "    'LessThan',\n",
       "    'GreaterThanOrEqual',\n",
       "    'LessThanOrEqual'],\n",
       "   'conditionType': 'Single'},\n",
       "  {'code': 11014,\n",
       "   'name': 'Узел получателя',\n",
       "   'description': 'Идентификатор узла получателя',\n",
       "   'availableOperands': 'Exists, NotExists',\n",
       "   'availableOperandNames': ['Exists', 'NotExists'],\n",
       "   'conditionType': 'Multiple'},\n",
       "  {'code': 11015,\n",
       "   'name': 'Объявленная ценность',\n",
       "   'description': 'Объявленная ценность отправления (в руб.)',\n",
       "   'availableOperands': 'Equal, NotEqual, GreaterThan, LessThan, GreaterThanOrEqual, LessThanOrEqual',\n",
       "   'availableOperandNames': ['Equal',\n",
       "    'NotEqual',\n",
       "    'GreaterThan',\n",
       "    'LessThan',\n",
       "    'GreaterThanOrEqual',\n",
       "    'LessThanOrEqual'],\n",
       "   'conditionType': 'Single'},\n",
       "  {'code': 11016,\n",
       "   'name': 'Сумма по товарам',\n",
       "   'description': 'Стоимость всех товаров в отправлении (в руб.)',\n",
       "   'availableOperands': 'Equal, NotEqual, GreaterThan, LessThan, GreaterThanOrEqual, LessThanOrEqual',\n",
       "   'availableOperandNames': ['Equal',\n",
       "    'NotEqual',\n",
       "    'GreaterThan',\n",
       "    'LessThan',\n",
       "    'GreaterThanOrEqual',\n",
       "    'LessThanOrEqual'],\n",
       "   'conditionType': 'Single'},\n",
       "  {'code': 11017,\n",
       "   'name': 'Код договора',\n",
       "   'description': 'Код договора плательщика',\n",
       "   'availableOperands': 'Equal, NotEqual',\n",
       "   'availableOperandNames': ['Equal', 'NotEqual'],\n",
       "   'conditionType': 'Single'},\n",
       "  {'code': 11018,\n",
       "   'name': 'Адрес консолидации',\n",
       "   'description': 'Наличие адреса консолидации',\n",
       "   'availableOperands': 'Exists, NotExists',\n",
       "   'availableOperandNames': ['Exists', 'NotExists'],\n",
       "   'conditionType': 'Single'},\n",
       "  {'code': 11019,\n",
       "   'name': 'Город консолидации',\n",
       "   'description': 'Соответствие городу из адреса консолидации',\n",
       "   'availableOperands': 'Exists, NotExists',\n",
       "   'availableOperandNames': ['Exists', 'NotExists'],\n",
       "   'conditionType': 'Multiple'}],\n",
       " 'ok': True,\n",
       " 'activityId': '6fdd915b-b5ee-4b2e-8234-4952f21b7f51',\n",
       " 'metadata': {'message': '$_TOTAL_REGISTERED_CONDITION_PARAMETERS_$: 16',\n",
       "  'type': 'Success',\n",
       "  'dataObject': None},\n",
       " 'exception': None,\n",
       " 'logs': ['$_TOTAL_REGISTERED_CONDITION_PARAMETERS_$: 16',\n",
       "  '$_TOTAL_REGISTERED_CONDITION_PARAMETERS_$: 16']}"
      ]
     },
     "execution_count": 129,
     "metadata": {},
     "output_type": "execute_result"
    }
   ],
   "source": [
    "ans = json.loads(r.text)\n",
    "ans"
   ]
  },
  {
   "cell_type": "code",
   "execution_count": 149,
   "metadata": {},
   "outputs": [],
   "source": [
    "list_ = [1, 2, 34]"
   ]
  },
  {
   "cell_type": "code",
   "execution_count": 155,
   "metadata": {},
   "outputs": [],
   "source": [
    "with open('textfile.txt', 'w') as f:\n",
    "    json.dump(list_, f)"
   ]
  },
  {
   "cell_type": "code",
   "execution_count": 159,
   "metadata": {},
   "outputs": [],
   "source": [
    "with open('textfile.txt', 'r') as f:\n",
    "    list2_ = json.load(f)"
   ]
  },
  {
   "cell_type": "code",
   "execution_count": 160,
   "metadata": {},
   "outputs": [
    {
     "data": {
      "text/plain": [
       "[1, 2, 34]"
      ]
     },
     "execution_count": 160,
     "metadata": {},
     "output_type": "execute_result"
    }
   ],
   "source": [
    "list2_"
   ]
  },
  {
   "cell_type": "code",
   "execution_count": null,
   "metadata": {},
   "outputs": [],
   "source": []
  },
  {
   "cell_type": "markdown",
   "metadata": {},
   "source": [
    "# Создание своего алгоритма сортировки"
   ]
  },
  {
   "cell_type": "code",
   "execution_count": 239,
   "metadata": {},
   "outputs": [],
   "source": [
    "name = 'test_tes'\n",
    "data = {\n",
    "  \"name\": name,\n",
    "  \"description\": None,\n",
    "  \"isActive\": True,\n",
    "  \"warehouseTypeId\": \"11111111-1111-1111-0000-000000000000\",\n",
    "  \"isDefault\": False\n",
    "}\n",
    "resp_1 = requests.post(urls[12] + '/api/v1/algorithms/post-item',\n",
    "                     data = json.dumps(data),\n",
    "                     headers = {'Authorization': f'Bearer {tok}',\n",
    "                               'Content-type': 'application/json-patch+json',\n",
    "                               'Accept': 'text/plain'})"
   ]
  },
  {
   "cell_type": "code",
   "execution_count": 240,
   "metadata": {},
   "outputs": [
    {
     "data": {
      "text/plain": [
       "200"
      ]
     },
     "execution_count": 240,
     "metadata": {},
     "output_type": "execute_result"
    }
   ],
   "source": [
    "resp_1.status_code"
   ]
  },
  {
   "cell_type": "code",
   "execution_count": 243,
   "metadata": {},
   "outputs": [
    {
     "data": {
      "text/plain": [
       "{'result': {'name': 'test_tes',\n",
       "  'description': None,\n",
       "  'createdAt': '2020-11-20T15:01:10.8435205Z',\n",
       "  'createdBy': 'ext.mgu2_education',\n",
       "  'updatedAt': '2020-11-20T15:01:10.8435205Z',\n",
       "  'updatedBy': 'ext.mgu2_education',\n",
       "  'isActive': True,\n",
       "  'warehouseTypeId': '11111111-1111-1111-0000-000000000000',\n",
       "  'warehouseTypeName': None,\n",
       "  'isDefault': False,\n",
       "  'criteriasCount': 0,\n",
       "  'id': '68759b9d-d0b3-4f6a-f7c0-08d88d5799ac'},\n",
       " 'ok': True,\n",
       " 'activityId': '5befd39f-2e5a-4e2d-80b6-bd4ba1e41615',\n",
       " 'metadata': None,\n",
       " 'exception': None,\n",
       " 'logs': []}"
      ]
     },
     "execution_count": 243,
     "metadata": {},
     "output_type": "execute_result"
    }
   ],
   "source": [
    "result = json.loads(resp_1.text)\n",
    "result"
   ]
  },
  {
   "cell_type": "code",
   "execution_count": 244,
   "metadata": {},
   "outputs": [
    {
     "data": {
      "text/plain": [
       "'68759b9d-d0b3-4f6a-f7c0-08d88d5799ac'"
      ]
     },
     "execution_count": 244,
     "metadata": {},
     "output_type": "execute_result"
    }
   ],
   "source": [
    "id_ = result['result']['id']\n",
    "id_"
   ]
  },
  {
   "cell_type": "code",
   "execution_count": 249,
   "metadata": {},
   "outputs": [],
   "source": []
  },
  {
   "cell_type": "code",
   "execution_count": null,
   "metadata": {},
   "outputs": [],
   "source": [
    "params = {'id': id_}\n",
    "r = requests.get(urls[12] + '/api/v1/algorithms/get-paged',\n",
    "                headers={'Authorization': f'Bearer {tok}'},\n",
    "                params = params)"
   ]
  },
  {
   "cell_type": "code",
   "execution_count": 256,
   "metadata": {},
   "outputs": [],
   "source": [
    "params = {'id': id_}\n",
    "r = requests.put(urls[12] + f'/api/v1/algorithms/put-item/{id_}',\n",
    "                headers={'Authorization': f'Bearer {tok}'},\n",
    "                json = data)"
   ]
  },
  {
   "cell_type": "code",
   "execution_count": 257,
   "metadata": {},
   "outputs": [
    {
     "data": {
      "text/plain": [
       "200"
      ]
     },
     "execution_count": 257,
     "metadata": {},
     "output_type": "execute_result"
    }
   ],
   "source": [
    "r.status_code"
   ]
  },
  {
   "cell_type": "code",
   "execution_count": 258,
   "metadata": {},
   "outputs": [
    {
     "data": {
      "text/plain": [
       "'{\"result\":null,\"ok\":false,\"activityId\":\"bXYquAeFbNX\",\"metadata\":{\"message\":\"The property Id can not be empty\",\"type\":\"Error\",\"dataObject\":null},\"exception\":null,\"logs\":[\"The property Id can not be empty\"]}'"
      ]
     },
     "execution_count": 258,
     "metadata": {},
     "output_type": "execute_result"
    }
   ],
   "source": [
    "r.text"
   ]
  },
  {
   "cell_type": "markdown",
   "metadata": {},
   "source": [
    "-------------------------------------------"
   ]
  },
  {
   "cell_type": "code",
   "execution_count": 196,
   "metadata": {},
   "outputs": [],
   "source": [
    "r = requests.get(urls[12] + '/api/v1/algorithms/get-viewmodel-for-creation',\n",
    "                headers={'Authorization': f'Bearer {tok}'})"
   ]
  },
  {
   "cell_type": "code",
   "execution_count": 198,
   "metadata": {},
   "outputs": [
    {
     "data": {
      "text/plain": [
       "{'result': {'name': None,\n",
       "  'description': None,\n",
       "  'isActive': False,\n",
       "  'warehouseTypeId': '00000000-0000-0000-0000-000000000000',\n",
       "  'isDefault': False},\n",
       " 'ok': True,\n",
       " 'activityId': 'a69122c7-4354-4b1e-ba94-ee2a95d17428',\n",
       " 'metadata': None,\n",
       " 'exception': None,\n",
       " 'logs': []}"
      ]
     },
     "execution_count": 198,
     "metadata": {},
     "output_type": "execute_result"
    }
   ],
   "source": [
    "json.loads(r.text)"
   ]
  },
  {
   "cell_type": "code",
   "execution_count": null,
   "metadata": {},
   "outputs": [],
   "source": []
  },
  {
   "cell_type": "code",
   "execution_count": 102,
   "metadata": {},
   "outputs": [],
   "source": [
    "id_ = '11-1111-1111'\n",
    "data = {'eventBlockId': id_,\n",
    "       'isSortingEnabled': '1'}\n",
    "resp_1 = requests.post(urls[6] + '/api/v1/pegasus-events71/post-item',\n",
    "                     data = json.dumps(data),\n",
    "                     headers = {'Authorization': f'Bearer {tok}',\n",
    "                               'Content-type': 'application/json'})"
   ]
  },
  {
   "cell_type": "code",
   "execution_count": 103,
   "metadata": {},
   "outputs": [
    {
     "data": {
      "text/plain": [
       "200"
      ]
     },
     "execution_count": 103,
     "metadata": {},
     "output_type": "execute_result"
    }
   ],
   "source": [
    "resp_1.status_code"
   ]
  },
  {
   "cell_type": "code",
   "execution_count": 104,
   "metadata": {},
   "outputs": [
    {
     "data": {
      "text/plain": [
       "'{\"result\":null,\"ok\":false,\"activityId\":\"0J4CkjfV5OQ\",\"metadata\":{\"message\":\"Error converting value \\\\\"11-1111-1111\\\\\" to type \\'System.Guid\\'. Path \\'eventBlockId\\', line 1, position 31.Could not convert string to boolean: 1. Path \\'isSortingEnabled\\', line 1, position 56.\",\"type\":\"Error\",\"dataObject\":null},\"exception\":null,\"logs\":[\"Error converting value \\\\\"11-1111-1111\\\\\" to type \\'System.Guid\\'. Path \\'eventBlockId\\', line 1, position 31.Could not convert string to boolean: 1. Path \\'isSortingEnabled\\', line 1, position 56.\"]}'"
      ]
     },
     "execution_count": 104,
     "metadata": {},
     "output_type": "execute_result"
    }
   ],
   "source": [
    "resp_1.text"
   ]
  },
  {
   "cell_type": "code",
   "execution_count": null,
   "metadata": {},
   "outputs": [],
   "source": []
  },
  {
   "cell_type": "code",
   "execution_count": null,
   "metadata": {},
   "outputs": [],
   "source": [
    "params = {'id': id_}\n",
    "resp_2 = requests.post(urls[6] + f'/api/v1/pegasus-events71/get-events-by-event-block-id/{id_}',\n",
    "                     params = params,\n",
    "                     headers = {'Authorization': f'Bearer {tok}',\n",
    "                               'Content-type': 'application/json'})"
   ]
  },
  {
   "cell_type": "code",
   "execution_count": null,
   "metadata": {},
   "outputs": [],
   "source": []
  },
  {
   "cell_type": "code",
   "execution_count": 118,
   "metadata": {},
   "outputs": [],
   "source": [
    "params = {'PageIndex': '1',\n",
    "          'PageSize': '20',\n",
    "          'SortDirection': '1',\n",
    "          'Search': ' '}\n",
    "r2 = requests.get(urls[10] + '/api/v1/departments/get-paged',\n",
    "                 headers={'Authorization': f'Bearer {tok}'},\n",
    "                 params = params)"
   ]
  },
  {
   "cell_type": "code",
   "execution_count": 119,
   "metadata": {},
   "outputs": [
    {
     "data": {
      "text/plain": [
       "200"
      ]
     },
     "execution_count": 119,
     "metadata": {},
     "output_type": "execute_result"
    }
   ],
   "source": [
    "r2.status_code"
   ]
  },
  {
   "cell_type": "code",
   "execution_count": 120,
   "metadata": {},
   "outputs": [
    {
     "data": {
      "text/plain": [
       "'{\"result\":null,\"ok\":false,\"activityId\":\"fI5asd9ipxH\",\"metadata\":{\"message\":\"Incorrect syntax near \\'OFFSET\\'.\\\\nInvalid usage of the option NEXT in the FETCH statement.\",\"type\":3,\"dataObject\":null},\"exception\":{\"ClassName\":\"Microsoft.Data.SqlClient.SqlException\",\"Message\":\"Incorrect syntax near \\'OFFSET\\'.\\\\nInvalid usage of the option NEXT in the FETCH statement.\",\"Data\":{\"helpLink.ProdName\":\"Microsoft SQL Server\",\"helpLink.ProdVer\":\"10.50.6560\",\"helpLink.EvtSrc\":\"MSSQLServer\",\"helpLink.EvtID\":\"102\",\"helpLink.BaseHelpUrl\":\"http://go.microsoft.com/fwlink\",\"helpLink.LinkId\":\"20476\",\"sqlError 1\":\"Microsoft.Data.SqlClient.SqlError: Incorrect syntax near \\'OFFSET\\'.\",\"sqlError 2\":\"Microsoft.Data.SqlClient.SqlError: Invalid usage of the option NEXT in the FETCH statement.\"},\"InnerException\":null,\"HelpURL\":null,\"StackTraceString\":\"   at Microsoft.Data.SqlClient.SqlCommand.<>c.<ExecuteDbDataReaderAsync>b__164_0(Task`1 result)\\\\n   at System.Threading.Tasks.ContinuationResultTaskFromResultTask`2.InnerInvoke()\\\\n   at System.Threading.ExecutionContext.RunInternal(ExecutionContext executionContext, ContextCallback callback, Object state)\\\\n--- End of stack trace from previous location where exception was thrown ---\\\\n   at System.Threading.Tasks.Task.ExecuteWithThreadLocal(Task& currentTaskSlot, Thread threadPoolThread)\\\\n--- End of stack trace from previous location where exception was thrown ---\\\\n   at Microsoft.EntityFrameworkCore.Storage.RelationalCommand.ExecuteReaderAsync(RelationalCommandParameterObject parameterObject, CancellationToken cancellationToken)\\\\n   at Microsoft.EntityFrameworkCore.Storage.RelationalCommand.ExecuteReaderAsync(RelationalCommandParameterObject parameterObject, CancellationToken cancellationToken)\\\\n   at Microsoft.EntityFrameworkCore.Storage.RelationalCommand.ExecuteReaderAsync(RelationalCommandParameterObject parameterObject, CancellationToken cancellationToken)\\\\n   at Microsoft.EntityFrameworkCore.Query.Internal.QueryingEnumerable`1.AsyncEnumerator.InitializeReaderAsync(DbContext _, Boolean result, CancellationToken cancellationToken)\\\\n   at Microsoft.EntityFrameworkCore.SqlServer.Storage.Internal.SqlServerExecutionStrategy.ExecuteAsync[TState,TResult](TState state, Func`4 operation, Func`4 verifySucceeded, CancellationToken cancellationToken)\\\\n   at Microsoft.EntityFrameworkCore.Query.Internal.QueryingEnumerable`1.AsyncEnumerator.MoveNextAsync()\\\\n   at Microsoft.EntityFrameworkCore.EntityFrameworkQueryableExtensions.ToListAsync[TSource](IQueryable`1 source, CancellationToken cancellationToken)\\\\n   at Microsoft.EntityFrameworkCore.EntityFrameworkQueryableExtensions.ToListAsync[TSource](IQueryable`1 source, CancellationToken cancellationToken)\\\\n   at Calabonga.UnitOfWork.IQueryablePageListExtensions.ToPagedListAsync[T](IQueryable`1 source, Int32 pageIndex, Int32 pageSize, Int32 indexFrom, CancellationToken cancellationToken)\\\\n   at Calabonga.AspNetCore.Controllers.Handlers.GetPagedHandlerBase`4.Handle(TRequest request, CancellationToken cancellationToken)\\\\n   at MediatR.Pipeline.RequestExceptionProcessorBehavior`2.Handle(TRequest request, CancellationToken cancellationToken, RequestHandlerDelegate`1 next)\\\\n   at MediatR.Pipeline.RequestExceptionProcessorBehavior`2.Handle(TRequest request, CancellationToken cancellationToken, RequestHandlerDelegate`1 next)\\\\n   at MediatR.Pipeline.RequestExceptionActionProcessorBehavior`2.Handle(TRequest request, CancellationToken cancellationToken, RequestHandlerDelegate`1 next)\\\\n   at MediatR.Pipeline.RequestExceptionActionProcessorBehavior`2.Handle(TRequest request, CancellationToken cancellationToken, RequestHandlerDelegate`1 next)\\\\n   at MediatR.Pipeline.RequestPostProcessorBehavior`2.Handle(TRequest request, CancellationToken cancellationToken, RequestHandlerDelegate`1 next)\\\\n   at MediatR.Pipeline.RequestPreProcessorBehavior`2.Handle(TRequest request, CancellationToken cancellationToken, RequestHandlerDelegate`1 next)\\\\n   at PE.Pegasus.Organization.Web.Controllers.Departments.DepartmentsController.GetPaged(DefaultPagedListQueryParams queryParams) in /opt/tfsagent/_work/27/s/PE.Pegasus.Organization/PE.Pegasus.Organization.Web/Controllers/Departments/DepartmentsController.cs:line 42\\\\n   at lambda_method(Closure , Object )\\\\n   at Microsoft.Extensions.Internal.ObjectMethodExecutorAwaitable.Awaiter.GetResult()\\\\n   at Microsoft.AspNetCore.Mvc.Infrastructure.ActionMethodExecutor.AwaitableObjectResultExecutor.Execute(IActionResultTypeMapper mapper, ObjectMethodExecutor executor, Object controller, Object[] arguments)\\\\n   at Microsoft.AspNetCore.Mvc.Infrastructure.ControllerActionInvoker.<InvokeActionMethodAsync>g__Logged|12_1(ControllerActionInvoker invoker)\\\\n   at Microsoft.AspNetCore.Mvc.Infrastructure.ControllerActionInvoker.<InvokeNextActionFilterAsync>g__Awaited|10_0(ControllerActionInvoker invoker, Task lastTask, State next, Scope scope, Object state, Boolean isCompleted)\\\\n   at Microsoft.AspNetCore.Mvc.Infrastructure.ControllerActionInvoker.Rethrow(ActionExecutedContextSealed context)\\\\n   at Microsoft.AspNetCore.Mvc.Infrastructure.ControllerActionInvoker.Next(State& next, Scope& scope, Object& state, Boolean& isCompleted)\\\\n   at Microsoft.AspNetCore.Mvc.Infrastructure.ControllerActionInvoker.<InvokeInnerFilterAsync>g__Awaited|13_0(ControllerActionInvoker invoker, Task lastTask, State next, Scope scope, Object state, Boolean isCompleted)\\\\n   at Microsoft.AspNetCore.Mvc.Infrastructure.ResourceInvoker.<InvokeFilterPipelineAsync>g__Awaited|19_0(ResourceInvoker invoker, Task lastTask, State next, Scope scope, Object state, Boolean isCompleted)\\\\n   at Microsoft.AspNetCore.Mvc.Infrastructure.ResourceInvoker.<InvokeAsync>g__Logged|17_1(ResourceInvoker invoker)\\\\n   at Microsoft.AspNetCore.Routing.EndpointMiddleware.<Invoke>g__AwaitRequestTask|6_0(Endpoint endpoint, Task requestTask, ILogger logger)\\\\n   at Microsoft.AspNetCore.Authorization.AuthorizationMiddleware.Invoke(HttpContext context)\\\\n   at Microsoft.AspNetCore.Authentication.AuthenticationMiddleware.Invoke(HttpContext context)\\\\n   at Calabonga.Microservices.Tracker.TrackerMiddleware.Invoke(HttpContext context, ITrackerContextFactory trackerContextFactory)\\\\n   at PE.Pegasus.Microservices.Extensions.Middlewares.ErrorHandlingMiddleware.Invoke(HttpContext context)\",\"RemoteStackTraceString\":null,\"RemoteStackIndex\":0,\"ExceptionMethod\":null,\"HResult\":-2146232060,\"Source\":\"Core Microsoft SqlClient Data Provider\",\"WatsonBuckets\":null,\"Errors\":null,\"ClientConnectionId\":\"6bb69691-d057-4bc7-9927-0a49ebb3a6e3\"},\"logs\":[\"[SYSTEM]: ErrorHandlingMiddleware\",\"Incorrect syntax near \\'OFFSET\\'.\\\\nInvalid usage of the option NEXT in the FETCH statement.\"]}'"
      ]
     },
     "execution_count": 120,
     "metadata": {},
     "output_type": "execute_result"
    }
   ],
   "source": [
    "r2.text"
   ]
  },
  {
   "cell_type": "code",
   "execution_count": null,
   "metadata": {},
   "outputs": [],
   "source": []
  },
  {
   "cell_type": "code",
   "execution_count": 32,
   "metadata": {},
   "outputs": [],
   "source": [
    "r1 = requests.get(urls[4] + '/api/v1/enumerations/get-block-number',\n",
    "                 headers={'Authorization': 'Bearer ' + tok})"
   ]
  },
  {
   "cell_type": "code",
   "execution_count": 33,
   "metadata": {},
   "outputs": [
    {
     "data": {
      "text/plain": [
       "{'result': {'number': 'MOW-408-768-954',\n",
       "  'requestedHost': 'srv-pegas-api-test',\n",
       "  'requestedDatabase': 'Main',\n",
       "  'requestedStoredProcedure': 'SN_GetNewBlockNumber'},\n",
       " 'ok': True,\n",
       " 'activityId': 'fa027e49-8f55-459f-b781-ef1be97b79f2',\n",
       " 'metadata': None,\n",
       " 'exception': None,\n",
       " 'logs': ['Number from srv-pegas-api-test received.',\n",
       "  'Enumerations is a proxy service',\n",
       "  '[UserName]: ext.mgu_education']}"
      ]
     },
     "execution_count": 33,
     "metadata": {},
     "output_type": "execute_result"
    }
   ],
   "source": [
    "json.loads(r1.text)"
   ]
  },
  {
   "cell_type": "markdown",
   "metadata": {},
   "source": [
    "-----------------------------"
   ]
  },
  {
   "cell_type": "code",
   "execution_count": 82,
   "metadata": {},
   "outputs": [],
   "source": [
    "params = {'PageIndex': '0',\n",
    "          'PageSize': '10',\n",
    "          'SortDirection': '1',\n",
    "          'Search': '',\n",
    "          'disabledDefaultIncludes': 'False'\n",
    "         }\n",
    "r2 = requests.get(urls[8] + '/api/v1/polygons/get-paged',\n",
    "                 headers={'Authorization': f'Bearer {tok}'},\n",
    "                 params = params)"
   ]
  },
  {
   "cell_type": "code",
   "execution_count": 83,
   "metadata": {},
   "outputs": [
    {
     "data": {
      "text/plain": [
       "200"
      ]
     },
     "execution_count": 83,
     "metadata": {},
     "output_type": "execute_result"
    }
   ],
   "source": [
    "r2.status_code"
   ]
  },
  {
   "cell_type": "code",
   "execution_count": 84,
   "metadata": {},
   "outputs": [
    {
     "data": {
      "text/plain": [
       "'{\"result\":null,\"ok\":false,\"activityId\":\"1zBvBnGwVGr\",\"metadata\":{\"message\":\"Incorrect syntax near \\'OFFSET\\'.\\\\nInvalid usage of the option NEXT in the FETCH statement.\",\"type\":3,\"dataObject\":null},\"exception\":{\"ClassName\":\"Microsoft.Data.SqlClient.SqlException\",\"Message\":\"Incorrect syntax near \\'OFFSET\\'.\\\\nInvalid usage of the option NEXT in the FETCH statement.\",\"Data\":{\"helpLink.ProdName\":\"Microsoft SQL Server\",\"helpLink.ProdVer\":\"10.50.6560\",\"helpLink.EvtSrc\":\"MSSQLServer\",\"helpLink.EvtID\":\"102\",\"helpLink.BaseHelpUrl\":\"http://go.microsoft.com/fwlink\",\"helpLink.LinkId\":\"20476\",\"sqlError 1\":\"Microsoft.Data.SqlClient.SqlError: Incorrect syntax near \\'OFFSET\\'.\",\"sqlError 2\":\"Microsoft.Data.SqlClient.SqlError: Invalid usage of the option NEXT in the FETCH statement.\"},\"InnerException\":null,\"HelpURL\":null,\"StackTraceString\":\"   at Microsoft.Data.SqlClient.SqlConnection.OnError(SqlException exception, Boolean breakConnection, Action`1 wrapCloseInAction)\\\\n   at Microsoft.Data.SqlClient.SqlInternalConnection.OnError(SqlException exception, Boolean breakConnection, Action`1 wrapCloseInAction)\\\\n   at Microsoft.Data.SqlClient.TdsParser.ThrowExceptionAndWarning(TdsParserStateObject stateObj, Boolean callerHasConnectionLock, Boolean asyncClose)\\\\n   at Microsoft.Data.SqlClient.TdsParser.TryRun(RunBehavior runBehavior, SqlCommand cmdHandler, SqlDataReader dataStream, BulkCopySimpleResultSet bulkCopyHandler, TdsParserStateObject stateObj, Boolean& dataReady)\\\\n   at Microsoft.Data.SqlClient.SqlDataReader.TryConsumeMetaData()\\\\n   at Microsoft.Data.SqlClient.SqlDataReader.get_MetaData()\\\\n   at Microsoft.Data.SqlClient.SqlCommand.FinishExecuteReader(SqlDataReader ds, RunBehavior runBehavior, String resetOptionsString, Boolean isInternal, Boolean forDescribeParameterEncryption, Boolean shouldCacheForAlwaysEncrypted)\\\\n   at Microsoft.Data.SqlClient.SqlCommand.RunExecuteReaderTds(CommandBehavior cmdBehavior, RunBehavior runBehavior, Boolean returnStream, Boolean isAsync, Int32 timeout, Task& task, Boolean asyncWrite, Boolean inRetry, SqlDataReader ds, Boolean describeParameterEncryptionRequest)\\\\n   at Microsoft.Data.SqlClient.SqlCommand.RunExecuteReader(CommandBehavior cmdBehavior, RunBehavior runBehavior, Boolean returnStream, TaskCompletionSource`1 completion, Int32 timeout, Task& task, Boolean& usedCache, Boolean asyncWrite, Boolean inRetry, String method)\\\\n   at Microsoft.Data.SqlClient.SqlCommand.RunExecuteReader(CommandBehavior cmdBehavior, RunBehavior runBehavior, Boolean returnStream, String method)\\\\n   at Microsoft.Data.SqlClient.SqlCommand.ExecuteReader(CommandBehavior behavior)\\\\n   at Microsoft.Data.SqlClient.SqlCommand.ExecuteDbDataReader(CommandBehavior behavior)\\\\n   at System.Data.Common.DbCommand.ExecuteReader()\\\\n   at Microsoft.EntityFrameworkCore.Storage.RelationalCommand.ExecuteReader(RelationalCommandParameterObject parameterObject)\\\\n   at Microsoft.EntityFrameworkCore.Query.Internal.QueryingEnumerable`1.Enumerator.InitializeReader(DbContext _, Boolean result)\\\\n   at Microsoft.EntityFrameworkCore.SqlServer.Storage.Internal.SqlServerExecutionStrategy.Execute[TState,TResult](TState state, Func`3 operation, Func`3 verifySucceeded)\\\\n   at Microsoft.EntityFrameworkCore.Query.Internal.QueryingEnumerable`1.Enumerator.MoveNext()\\\\n   at System.Collections.Generic.List`1..ctor(IEnumerable`1 collection)\\\\n   at System.Linq.Enumerable.ToList[TSource](IEnumerable`1 source)\\\\n   at Calabonga.UnitOfWork.PagedList`1..ctor(IEnumerable`1 source, Int32 pageIndex, Int32 pageSize, Int32 indexFrom)\\\\n   at Calabonga.UnitOfWork.IEnumerablePagedListExtensions.ToPagedList[T](IEnumerable`1 source, Int32 pageIndex, Int32 pageSize, Int32 indexFrom)\\\\n   at Calabonga.UnitOfWork.Repository`1.GetPagedList(Expression`1 predicate, Func`2 orderBy, Func`2 include, Int32 pageIndex, Int32 pageSize, Boolean disableTracking, Boolean ignoreQueryFilters)\\\\n   at Calabonga.UnitOfWork.Controllers.Controllers.ReadOnlyController`3.GetPaged(TQueryParams queryParams, Boolean disabledDefaultIncludes)\\\\n   at lambda_method(Closure , Object , Object[] )\\\\n   at Microsoft.Extensions.Internal.ObjectMethodExecutor.Execute(Object target, Object[] parameters)\\\\n   at Microsoft.AspNetCore.Mvc.Infrastructure.ActionMethodExecutor.SyncObjectResultExecutor.Execute(IActionResultTypeMapper mapper, ObjectMethodExecutor executor, Object controller, Object[] arguments)\\\\n   at Microsoft.AspNetCore.Mvc.Infrastructure.ControllerActionInvoker.<InvokeActionMethodAsync>g__Logged|12_1(ControllerActionInvoker invoker)\\\\n   at Microsoft.AspNetCore.Mvc.Infrastructure.ControllerActionInvoker.<InvokeNextActionFilterAsync>g__Awaited|10_0(ControllerActionInvoker invoker, Task lastTask, State next, Scope scope, Object state, Boolean isCompleted)\\\\n   at Microsoft.AspNetCore.Mvc.Infrastructure.ControllerActionInvoker.Rethrow(ActionExecutedContextSealed context)\\\\n   at Microsoft.AspNetCore.Mvc.Infrastructure.ControllerActionInvoker.Next(State& next, Scope& scope, Object& state, Boolean& isCompleted)\\\\n   at Microsoft.AspNetCore.Mvc.Infrastructure.ControllerActionInvoker.InvokeInnerFilterAsync()\\\\n--- End of stack trace from previous location where exception was thrown ---\\\\n   at Microsoft.AspNetCore.Mvc.Infrastructure.ResourceInvoker.<InvokeFilterPipelineAsync>g__Awaited|19_0(ResourceInvoker invoker, Task lastTask, State next, Scope scope, Object state, Boolean isCompleted)\\\\n   at Microsoft.AspNetCore.Mvc.Infrastructure.ResourceInvoker.<InvokeAsync>g__Logged|17_1(ResourceInvoker invoker)\\\\n   at Microsoft.AspNetCore.Routing.EndpointMiddleware.<Invoke>g__AwaitRequestTask|6_0(Endpoint endpoint, Task requestTask, ILogger logger)\\\\n   at Microsoft.AspNetCore.Authorization.AuthorizationMiddleware.Invoke(HttpContext context)\\\\n   at Microsoft.AspNetCore.Authentication.AuthenticationMiddleware.Invoke(HttpContext context)\\\\n   at Calabonga.Microservices.Tracker.TrackerMiddleware.Invoke(HttpContext context, ITrackerContextFactory trackerContextFactory)\\\\n   at PE.Pegasus.Microservices.Extensions.Middlewares.ErrorHandlingMiddleware.Invoke(HttpContext context)\",\"RemoteStackTraceString\":null,\"RemoteStackIndex\":0,\"ExceptionMethod\":null,\"HResult\":-2146232060,\"Source\":\"Core Microsoft SqlClient Data Provider\",\"WatsonBuckets\":null,\"Errors\":null,\"ClientConnectionId\":\"91a7b119-7b7a-4b22-892a-09a078da21b6\"},\"logs\":[\"[SYSTEM]: ErrorHandlingMiddleware\",\"Incorrect syntax near \\'OFFSET\\'.\\\\nInvalid usage of the option NEXT in the FETCH statement.\"]}'"
      ]
     },
     "execution_count": 84,
     "metadata": {},
     "output_type": "execute_result"
    }
   ],
   "source": [
    "r2.text"
   ]
  },
  {
   "cell_type": "code",
   "execution_count": 65,
   "metadata": {},
   "outputs": [],
   "source": [
    "r3 = requests.post(urls[8] + '/api/v1/geography/get-address-points-by-address-ids',\n",
    "                 headers={'Authorization': f'Bearer {tok}'})"
   ]
  },
  {
   "cell_type": "code",
   "execution_count": 66,
   "metadata": {},
   "outputs": [
    {
     "data": {
      "text/plain": [
       "415"
      ]
     },
     "execution_count": 66,
     "metadata": {},
     "output_type": "execute_result"
    }
   ],
   "source": [
    "r3.status_code"
   ]
  }
 ],
 "metadata": {
  "kernelspec": {
   "display_name": "Python 3",
   "language": "python",
   "name": "python3"
  },
  "language_info": {
   "codemirror_mode": {
    "name": "ipython",
    "version": 3
   },
   "file_extension": ".py",
   "mimetype": "text/x-python",
   "name": "python",
   "nbconvert_exporter": "python",
   "pygments_lexer": "ipython3",
   "version": "3.6.8"
  }
 },
 "nbformat": 4,
 "nbformat_minor": 2
}
