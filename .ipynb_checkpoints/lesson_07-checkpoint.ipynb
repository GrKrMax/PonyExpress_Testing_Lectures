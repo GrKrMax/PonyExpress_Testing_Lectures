{
 "cells": [
  {
   "cell_type": "code",
   "execution_count": 1,
   "metadata": {},
   "outputs": [],
   "source": [
    "import requests\n",
    "import json\n",
    "from selenium import webdriver\n",
    "import pathes"
   ]
  },
  {
   "cell_type": "markdown",
   "metadata": {},
   "source": [
    "<img width='480px' src=\"https://mdn.mozillademos.org/files/8013/mdn-url-protocol@x2.png\"></img>\n",
    "<img width='480px' src=\"https://mdn.mozillademos.org/files/8015/mdn-url-protocol@x2.png\"></img>\n",
    "<img width='480px' src=\"https://mdn.mozillademos.org/files/8017/mdn-url-protocol@x2.png\"></img>\n",
    "<img width='480px' src=\"https://mdn.mozillademos.org/files/8019/mdn-url-protocol@x2.png\"></img>\n",
    "<img width='480px' src=\"https://mdn.mozillademos.org/files/8021/mdn-url-protocol@x2.png\"></img>\n",
    "<img width='480px' src=\"https://mdn.mozillademos.org/files/8023/mdn-url-protocol@x2.png\"></img>"
   ]
  },
  {
   "cell_type": "code",
   "execution_count": 2,
   "metadata": {},
   "outputs": [
    {
     "data": {
      "text/plain": [
       "ParseResult(scheme='http', netloc='www.example.com:80', path='/path/to/myfile.html', params='', query='key1=value1&key2=value2', fragment='SomewhereInTheDocument')"
      ]
     },
     "execution_count": 2,
     "metadata": {},
     "output_type": "execute_result"
    }
   ],
   "source": [
    "from urllib.parse import urlparse\n",
    "\n",
    "url = \"http://www.example.com:80/path/to/myfile.html?key1=value1&key2=value2#SomewhereInTheDocument\"\n",
    "urlparse(url)"
   ]
  },
  {
   "cell_type": "code",
   "execution_count": 3,
   "metadata": {},
   "outputs": [
    {
     "data": {
      "text/plain": [
       "ParseResult(scheme='https', netloc='habr.com', path='/ru/search/', params='', query='target_type=posts&order_by=relevance&q=qauth+autorization&flow=', fragment='')"
      ]
     },
     "execution_count": 3,
     "metadata": {},
     "output_type": "execute_result"
    }
   ],
   "source": [
    "url = \"https://habr.com/ru/search/?target_type=posts&order_by=relevance&q=qauth+autorization&flow=\"\n",
    "urlparse(url)"
   ]
  },
  {
   "cell_type": "markdown",
   "metadata": {},
   "source": [
    "<img width='500px' src=\"images/swagger-petstore-endpoint-methods.png\"></img>"
   ]
  },
  {
   "cell_type": "markdown",
   "metadata": {},
   "source": [
    "<img width='800px' src=\"images/responses.jpg\"></img>"
   ]
  },
  {
   "cell_type": "markdown",
   "metadata": {},
   "source": [
    "<img width='800px' src=\"images/status-code.png\"></img>"
   ]
  },
  {
   "cell_type": "markdown",
   "metadata": {},
   "source": [
    "# Swagger"
   ]
  },
  {
   "cell_type": "code",
   "execution_count": 3,
   "metadata": {},
   "outputs": [],
   "source": [
    "urls = [\n",
    "    'http://configurations-backend-edu.pegasus.ponyex.local/',\n",
    "    'http://couriers-backend-edu.pegasus.ponyex.local/',\n",
    "    'http://delivery-edu.pegasus.ponyex.local/',\n",
    "    'http://delivery-backend-edu.pegasus.ponyex.local/',\n",
    "    'http://enumerations-backend-edu.pegasus.ponyex.local/',\n",
    "    'http://events-edu.pegasus.ponyex.local/',\n",
    "    'http://events-backend-edu.pegasus.ponyex.local/',\n",
    "    'http://geography-edu.pegasus.ponyex.local/',\n",
    "    'http://geography-backend-edu.pegasus.ponyex.local/',\n",
    "    'http://localizations-backend-edu.pegasus.ponyex.local/',\n",
    "    'http://organization-backend-edu.pegasus.ponyex.local/',\n",
    "    'http://warehouses-edu.pegasus.ponyex.local/',\n",
    "    'http://warehouses-backend-edu.pegasus.ponyex.local/',\n",
    "    'http://waybills-backend-edu.pegasus.ponyex.local/',]\n",
    "\n",
    "swagger_tail = 'api/manual/index.html'"
   ]
  },
  {
   "cell_type": "code",
   "execution_count": 10,
   "metadata": {},
   "outputs": [
    {
     "data": {
      "text/plain": [
       "['http://configurations-backend-edu.pegasus.ponyex.local/api/manual/index.html',\n",
       " 'http://couriers-backend-edu.pegasus.ponyex.local/api/manual/index.html',\n",
       " 'http://delivery-edu.pegasus.ponyex.local/api/manual/index.html',\n",
       " 'http://delivery-backend-edu.pegasus.ponyex.local/api/manual/index.html',\n",
       " 'http://enumerations-backend-edu.pegasus.ponyex.local/api/manual/index.html',\n",
       " 'http://events-edu.pegasus.ponyex.local/api/manual/index.html',\n",
       " 'http://events-backend-edu.pegasus.ponyex.local/api/manual/index.html',\n",
       " 'http://geography-edu.pegasus.ponyex.local/api/manual/index.html',\n",
       " 'http://geography-backend-edu.pegasus.ponyex.local/api/manual/index.html',\n",
       " 'http://localizations-backend-edu.pegasus.ponyex.local/api/manual/index.html',\n",
       " 'http://organization-backend-edu.pegasus.ponyex.local/api/manual/index.html',\n",
       " 'http://warehouses-edu.pegasus.ponyex.local/api/manual/index.html',\n",
       " 'http://warehouses-backend-edu.pegasus.ponyex.local/api/manual/index.html',\n",
       " 'http://waybills-backend-edu.pegasus.ponyex.local/api/manual/index.html']"
      ]
     },
     "execution_count": 10,
     "metadata": {},
     "output_type": "execute_result"
    }
   ],
   "source": [
    "swagger_urls = []\n",
    "for url in urls:\n",
    "    swagger_urls.append(url + swagger_tail)\n",
    "swagger_urls"
   ]
  },
  {
   "cell_type": "code",
   "execution_count": 11,
   "metadata": {},
   "outputs": [],
   "source": [
    "driver = webdriver.Firefox(executable_path=pathes.driver_path)"
   ]
  },
  {
   "cell_type": "code",
   "execution_count": 12,
   "metadata": {},
   "outputs": [],
   "source": [
    "driver.get(urls[6] + swagger_tail)"
   ]
  },
  {
   "cell_type": "code",
   "execution_count": null,
   "metadata": {},
   "outputs": [],
   "source": []
  },
  {
   "cell_type": "markdown",
   "metadata": {},
   "source": [
    "# Авторизация"
   ]
  },
  {
   "cell_type": "markdown",
   "metadata": {},
   "source": [
    "<img width='800px' src=\"images/post.PNG\"></img>"
   ]
  },
  {
   "cell_type": "code",
   "execution_count": 4,
   "metadata": {},
   "outputs": [],
   "source": [
    "headers = {'Content-Type': 'application/x-www-form-urlencoded'}\n",
    "data = {'username': pathes.login, \n",
    "          'password': pathes.password, \n",
    "          'grant_type': 'password', \n",
    "          'scope': 'pegasus', \n",
    "          'client_id': 'pegasus-v2', \n",
    "          'client_secret': 'secret'}\n",
    "\n",
    "url = \"http://srv-pnew-01-test:1001/auth/connect/token\"\n",
    "\n",
    "r = requests.post(url, data = data, headers = headers)"
   ]
  },
  {
   "cell_type": "code",
   "execution_count": 8,
   "metadata": {},
   "outputs": [
    {
     "data": {
      "text/plain": [
       "<Response [200]>"
      ]
     },
     "execution_count": 8,
     "metadata": {},
     "output_type": "execute_result"
    }
   ],
   "source": [
    "r"
   ]
  },
  {
   "cell_type": "code",
   "execution_count": 9,
   "metadata": {},
   "outputs": [
    {
     "data": {
      "text/plain": [
       "200"
      ]
     },
     "execution_count": 9,
     "metadata": {},
     "output_type": "execute_result"
    }
   ],
   "source": [
    "r.status_code"
   ]
  },
  {
   "cell_type": "code",
   "execution_count": 15,
   "metadata": {},
   "outputs": [
    {
     "data": {
      "text/plain": [
       "'{\"access_token\":\"eyJhbGciOiJSUzI1NiIsImtpZCI6IkNDRUM2MzY3RDY4RjIwNkYwNjExRUMyNDRCNkUzRUQ5IiwidHlwIjoiYXQrand0In0.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.wb4UJmaH5OMcJp17e4F4AkK1XCT8fJrrmkMmzjlOcvapLulRpBS4Gd4koY85dX-Tu4LUNsMFI6iJto1EErnfYDIo7TakLjVJ2paDym4mWl9dAXk0sBs31HNPr7LCiN8s3Fqe7MVH2Aam6NkSBpxeZsvopWYj7Ybs50m8cp8WfSCVy67YMFFQOOLIOClQ-1iZJPbWsaJHMRF47qUlb7BRdEDxMOYW9ranB-K-JtoaCQCVIgTaD4iBeKuZHJGkOo2__mZENaJja_VdwTWm5dRObljmbbcPMOsgHAwb6ZO_X4JXN3i_NWKwb2YX5EvGiHtqufIcVyPCUrN4-PktH_ahOg\",\"expires_in\":86400,\"token_type\":\"Bearer\",\"scope\":\"pegasus\"}'"
      ]
     },
     "execution_count": 15,
     "metadata": {},
     "output_type": "execute_result"
    }
   ],
   "source": [
    "r.text"
   ]
  },
  {
   "cell_type": "code",
   "execution_count": 5,
   "metadata": {},
   "outputs": [],
   "source": [
    "answer = json.loads(r.text)"
   ]
  },
  {
   "cell_type": "code",
   "execution_count": 17,
   "metadata": {},
   "outputs": [
    {
     "data": {
      "text/plain": [
       "{'access_token': 'eyJhbGciOiJSUzI1NiIsImtpZCI6IkNDRUM2MzY3RDY4RjIwNkYwNjExRUMyNDRCNkUzRUQ5IiwidHlwIjoiYXQrand0In0.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.wb4UJmaH5OMcJp17e4F4AkK1XCT8fJrrmkMmzjlOcvapLulRpBS4Gd4koY85dX-Tu4LUNsMFI6iJto1EErnfYDIo7TakLjVJ2paDym4mWl9dAXk0sBs31HNPr7LCiN8s3Fqe7MVH2Aam6NkSBpxeZsvopWYj7Ybs50m8cp8WfSCVy67YMFFQOOLIOClQ-1iZJPbWsaJHMRF47qUlb7BRdEDxMOYW9ranB-K-JtoaCQCVIgTaD4iBeKuZHJGkOo2__mZENaJja_VdwTWm5dRObljmbbcPMOsgHAwb6ZO_X4JXN3i_NWKwb2YX5EvGiHtqufIcVyPCUrN4-PktH_ahOg',\n",
       " 'expires_in': 86400,\n",
       " 'token_type': 'Bearer',\n",
       " 'scope': 'pegasus'}"
      ]
     },
     "execution_count": 17,
     "metadata": {},
     "output_type": "execute_result"
    }
   ],
   "source": [
    "answer"
   ]
  },
  {
   "cell_type": "code",
   "execution_count": 18,
   "metadata": {},
   "outputs": [
    {
     "data": {
      "text/plain": [
       "dict"
      ]
     },
     "execution_count": 18,
     "metadata": {},
     "output_type": "execute_result"
    }
   ],
   "source": [
    "type(answer)"
   ]
  },
  {
   "cell_type": "code",
   "execution_count": 6,
   "metadata": {},
   "outputs": [
    {
     "data": {
      "text/plain": [
       "'eyJhbGciOiJSUzI1NiIsImtpZCI6IkNDRUM2MzY3RDY4RjIwNkYwNjExRUMyNDRCNkUzRUQ5IiwidHlwIjoiYXQrand0In0.eyJuYmYiOjE2MDU4ODA1MzUsImV4cCI6MTYwNTk2NjkzNSwiaXNzIjoiaHR0cDovL3Nydi1wbmV3LTAxLXRlc3QucG9ueWV4LmxvY2FsOjEwMDEvYXV0aCIsImNsaWVudF9pZCI6InBlZ2FzdXMtdjIiLCJzdWIiOiJleHQubWd1X2VkdWNhdGlvbiIsImF1dGhfdGltZSI6NjM3NDE0ODgxMzUzMDk0MjE1LCJpZHAiOiJJZGVudGl0eVNlcnZlcjQiLCJEb21haW4iOiJQT05ZRVgiLCJodHRwOi8vc2NoZW1hcy5taWNyb3NvZnQuY29tL3dzLzIwMDgvMDYvaWRlbnRpdHkvY2xhaW1zL2F1dGhlbnRpY2F0aW9ubWV0aG9kIjoiQ2xhaW1zSWRlbnRpdHkiLCJuYW1lIjoiZXh0Lm1ndV9lZHVjYXRpb24iLCJMb2NhbGVDb2RlIjoicnUtUlUiLCJDcmVhdGVkQXQiOiIyOS4wNS4yMDIwIDEyOjQ2OjA1IiwiQ3JlYXRlZEJ5Ijoic2Iuc3RyYW1ub3YiLCJVcGRhdGVkQXQiOiIyOC4xMC4yMDIwIDEzOjQxOjUwIiwiVXBkYXRlZEJ5Ijoic2Iuc3RyYW1ub3YiLCJGaXJzdE5hbWUiOiLQnNCT0KMiLCJNaWRkbGVOYW1lIjoi0JzQk9CjIiwiTGFzdE5hbWUiOiLQnNCT0KMiLCJQb3NpdGlvbiI6ItCj0YfQtdC90LjQutC4IiwiTW9iaWxlUGhvbmUiOiIrNzkwMDAwMDAwMDAiLCJJbnRlcm5hbFBob25lIjoiIiwiQmlydGhEYXRlIjoiMjMuMDcuMTk5OSAxNDowMjozMCIsIkVtYWlsIjoic2Iuc3RyYW1ub3ZAcG9ueWV4cHJlc3NzLnJ1IiwiUG9ueUlkZW50aXR5IjoiZXh0Lm1ndV9lZHVjYXRpb24iLCJDaXR5Ijoi0JzQvtGB0LrQstCwIiwiUG9pbnRJZCI6ImE3NDYwOTAwLTc0ODgtNGRjNy04NWRhLWFmYjNjMTJkYTAwMSIsIlRpbWVTaGlmdCI6IjAwOjAwOjAwIiwiSWQiOiI5MGEzNDVjNi1hMWJhLTQ2NWUtZmIzNC0wOGQ4MDNjZTQwNmMiLCJBY2NvdW50OlJlYWQ6UHJvZmlsZSI6InJvbGUiLCJBZG1pbmlzdHJhdG9yOlVwZGF0ZTpQZXJtaXNzaW9ucyI6InJvbGUiLCJBZG1pbmlzdHJhdG9yOkNsZWFyOlBlcm1pc3Npb25zIjoicm9sZSIsIlBlcm1pc3Npb25Hcm91cHM6RGVsZXRlOkRlZmF1bHQiOiJyb2xlIiwiUGVybWlzc2lvbkdyb3VwczpDcmVhdGU6V2l0aFBlcm1pc3Npb25TZXRzIjoicm9sZSIsIlBlcm1pc3Npb25Hcm91cHM6VXBkYXRlOldpdGhQZXJtaXNzaW9uU2V0cyI6InJvbGUiLCJVc2VyUHJvZmlsZUdyb3VwczpDcmVhdGU6RGVmYXVsdCI6InJvbGUiLCJVc2VyUHJvZmlsZUdyb3VwczpVcGRhdGU6RGVmYXVsdCI6InJvbGUiLCJVc2VyUHJvZmlsZUdyb3VwczpEZWxldGU6RGVmYXVsdCI6InJvbGUiLCJVc2VyUHJvZmlsZUdyb3VwczpDcmVhdGU6VXNlclByb2ZpbGVzIjoicm9sZSIsIlVzZXJQcm9maWxlR3JvdXBzOkRlbGV0ZTpVc2VyUHJvZmlsZSI6InJvbGUiLCJVc2VyUHJvZmlsZUdyb3VwczpDcmVhdGU6UGVybWlzc2lvbkdyb3VwcyI6InJvbGUiLCJVc2VyUHJvZmlsZUdyb3VwczpEZWxldGU6UGVybWlzc2lvbkdyb3VwIjoicm9sZSIsIkNvdXJpZXJzOlJlYWQ6Q291cmllcnMiOiJyb2xlIiwiQ291cmllcnM6UmVhZDpCeUlkIjoicm9sZSIsIkVudW1lcmF0aW9uczpSZWFkOkJsb2NrTnVtYmVyIjoicm9sZSIsIkV2ZW50QmxvY2tzOkNyZWF0ZTpEZWZhdWx0Ijoicm9sZSIsImp0aSI6IkFFMDdEODcwMDIyRkI3NDk3MkUwMjg1NTVFMDYzNzRFIiwiaWF0IjoxNjA1ODgwNTM1LCJzY29wZSI6WyJwZWdhc3VzIl0sImFtciI6WyJwd2QiXX0.xXuEA7CVALWPpRbmHd6hRaMhdwg5o8NlwZ6QVoSpC_eMPfDJKBL2f9dDcnI4CZuXK960mGQLZTzQFp7VdIdy-HD7mStp4Nw0wxosn3C-CUhM4EXg6S7rxpwPEHyNm-2X_n_FMfprVrIDWp5_TUqN_Vz4HnJatFdb2qR4E5jXG64KO2IsLaZnXxNQD0n-GiJfXmkiZf9Yj_N8pNZ4EYUIArooFu8ytRPDTJv1q8OU94mmXqdU24hD4zdvWLT-xRb4po6dRJbCQmkCY3iNwDG2No7I2a5A6rMVG9pm5E7wkaL_xHz1h7TOVTZlAJ_g5wvqODgkjCcdyHKMTuCsPI6Ycw'"
      ]
     },
     "execution_count": 6,
     "metadata": {},
     "output_type": "execute_result"
    }
   ],
   "source": [
    "tok = answer[\"access_token\"]\n",
    "tok"
   ]
  },
  {
   "cell_type": "markdown",
   "metadata": {},
   "source": [
    "Слово «Bearer (Предъявитель)» означает, что у вас есть определенный токен (доступ). Предъявителем является стороннее приложение, которому его выдал провайдер идентификации. Этот токен обеспечивает немедленный доступ к ресурсу, не требуя имени пользователя и пароля. С этим токеном связана вся необходимая информация, включая данные пользователя и объем возможных действий, которые может предпринять третье лицо от имени этого пользователя."
   ]
  },
  {
   "cell_type": "markdown",
   "metadata": {},
   "source": [
    "<img width='800px' src=\"images/auth.PNG\"></img>"
   ]
  },
  {
   "cell_type": "code",
   "execution_count": 19,
   "metadata": {},
   "outputs": [
    {
     "data": {
      "text/plain": [
       "'Bearer eyJhbGciOiJSUzI1NiIsImtpZCI6IkNDRUM2MzY3RDY4RjIwNkYwNjExRUMyNDRCNkUzRUQ5IiwidHlwIjoiYXQrand0In0.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.EPkinGlyqPzhlqPwtqSRK53zeNgldI66fDwMD48KIyAAaiA2QNDMH6rR_lrk8oDdvDgAzxCE9U2JFVm8KOjRujJ1-hOKIqkUcugofbclQrrTgo6Cd_pzVKyHGoM17okHv_KPYeibiMeYwHVTTy5A8LBAmqQj0y3QwkSuNprbvXKWwOBu6flYL8GPjASnn66kRKe2rG9s636-ppamarOfeH3l9rj9ks2Mr6-aF1GUteQgcTmusZCGrsmYvr0-AOVgechrBtFRSt_iyKZAsv72YLDCe9NVgTp8OCJHoF4I8ORoWlFfQxKZ0Rg6iBHCBgfQbnQr8AwTpOQ2rG8__es7Sw'"
      ]
     },
     "execution_count": 19,
     "metadata": {},
     "output_type": "execute_result"
    }
   ],
   "source": [
    "s = 'Bearer ' + tok\n",
    "s"
   ]
  },
  {
   "cell_type": "code",
   "execution_count": 97,
   "metadata": {},
   "outputs": [],
   "source": [
    "r1 = requests.get(urls[0] + 'api/v1/configurations/get-all',\n",
    "                 headers={'Authorization': 'Bearer ' + tok})"
   ]
  },
  {
   "cell_type": "code",
   "execution_count": 98,
   "metadata": {},
   "outputs": [
    {
     "data": {
      "text/plain": [
       "200"
      ]
     },
     "execution_count": 98,
     "metadata": {},
     "output_type": "execute_result"
    }
   ],
   "source": [
    "r1.status_code"
   ]
  },
  {
   "cell_type": "code",
   "execution_count": 89,
   "metadata": {},
   "outputs": [
    {
     "data": {
      "text/plain": [
       "'{\"result\":[{\"name\":\"Configuration for some person GridView (demo)\",\"id\":\"277531bb-1fa7-b990-48d7-0bec332b7a1b\"},{\"name\":\"Configuration for some microservice (demo)\",\"id\":\"6ff8cc6a-c38d-6e9a-44d3-844eb2f8c67c\"},{\"name\":\"Configuration for some communication mechanism (demo)\",\"id\":\"21ff6d55-a5b4-5d8e-4132-f50456f3bd1b\"}],\"ok\":true,\"activityId\":\"e435b2f2-9fc1-45ff-ba96-f21eaee3268f\",\"metadata\":null,\"exception\":null,\"logs\":[]}'"
      ]
     },
     "execution_count": 89,
     "metadata": {},
     "output_type": "execute_result"
    }
   ],
   "source": [
    "r1.text"
   ]
  },
  {
   "cell_type": "code",
   "execution_count": 90,
   "metadata": {},
   "outputs": [
    {
     "data": {
      "text/plain": [
       "{'result': [{'name': 'Configuration for some person GridView (demo)',\n",
       "   'id': '277531bb-1fa7-b990-48d7-0bec332b7a1b'},\n",
       "  {'name': 'Configuration for some microservice (demo)',\n",
       "   'id': '6ff8cc6a-c38d-6e9a-44d3-844eb2f8c67c'},\n",
       "  {'name': 'Configuration for some communication mechanism (demo)',\n",
       "   'id': '21ff6d55-a5b4-5d8e-4132-f50456f3bd1b'}],\n",
       " 'ok': True,\n",
       " 'activityId': 'e435b2f2-9fc1-45ff-ba96-f21eaee3268f',\n",
       " 'metadata': None,\n",
       " 'exception': None,\n",
       " 'logs': []}"
      ]
     },
     "execution_count": 90,
     "metadata": {},
     "output_type": "execute_result"
    }
   ],
   "source": [
    "text1 = json.loads(r1.text)\n",
    "text1"
   ]
  },
  {
   "cell_type": "code",
   "execution_count": 12,
   "metadata": {},
   "outputs": [],
   "source": [
    "params = {'PageSize': '5',\n",
    "          'Search': 'Максим',\n",
    "         }\n",
    "r2 = requests.get(urls[1] + 'api/v1/couriers/get-couriers',\n",
    "                 headers={'Authorization': f'Bearer {tok}'},\n",
    "                 params = params)"
   ]
  },
  {
   "cell_type": "code",
   "execution_count": 13,
   "metadata": {},
   "outputs": [
    {
     "data": {
      "text/plain": [
       "200"
      ]
     },
     "execution_count": 13,
     "metadata": {},
     "output_type": "execute_result"
    }
   ],
   "source": [
    "r2.status_code"
   ]
  },
  {
   "cell_type": "code",
   "execution_count": 14,
   "metadata": {},
   "outputs": [
    {
     "data": {
      "text/plain": [
       "'{\"result\":{\"items\":[{\"employeeId\":\"d47307cf-c646-4585-b388-7141e4be6cc8\",\"firstName\":\"Максим\",\"lastName\":\"(СТД) Бателов\",\"secondName\":\"Александрович\",\"tabNumber\":\"26973\"},{\"employeeId\":\"5fffac2a-ab55-404f-b46b-d1cc53a43cb0\",\"firstName\":\"Максим\",\"lastName\":\"3 CТ Соловьев\",\"secondName\":\"Сергеевич\",\"tabNumber\":\"085\"},{\"employeeId\":\"40384358-166f-4bf8-9dcc-387d20574725\",\"firstName\":\"Максим\",\"lastName\":\"3 СТ Губа\",\"secondName\":\"\",\"tabNumber\":\"078\"},{\"employeeId\":\"67596336-f9d3-422b-ac82-3480da920d91\",\"firstName\":\"Максим \",\"lastName\":\"3 СТ Гутов\",\"secondName\":\"Сергеевич\",\"tabNumber\":\"074\"},{\"employeeId\":\"7b3fd055-7103-4061-a4e2-6e13a5d61e2f\",\"firstName\":\"Максим\",\"lastName\":\"3 СТ Маяцкий\",\"secondName\":\"\",\"tabNumber\":\"086\"}],\"count\":5,\"pageIndex\":0,\"pageSize\":5,\"totalCount\":350,\"totalPages\":70,\"hasPreviousPage\":false,\"hasNextPage\":true},\"ok\":true,\"activityId\":\"384ed87a-2afe-47d6-859c-11298012430d\",\"metadata\":{\"message\":\"Request to legacy sql without entity framework\",\"type\":\"Info\",\"dataObject\":null},\"exception\":null,\"logs\":[\"Request to legacy sql without entity framework\",\"Custom pagination used\",\"Couriers is a proxy service\"]}'"
      ]
     },
     "execution_count": 14,
     "metadata": {},
     "output_type": "execute_result"
    }
   ],
   "source": [
    "r2.text"
   ]
  },
  {
   "cell_type": "code",
   "execution_count": 15,
   "metadata": {},
   "outputs": [],
   "source": [
    "couriers = json.loads(r2.text)"
   ]
  },
  {
   "cell_type": "code",
   "execution_count": 16,
   "metadata": {},
   "outputs": [
    {
     "data": {
      "text/plain": [
       "{'result': {'items': [{'employeeId': 'd47307cf-c646-4585-b388-7141e4be6cc8',\n",
       "    'firstName': 'Максим',\n",
       "    'lastName': '(СТД) Бателов',\n",
       "    'secondName': 'Александрович',\n",
       "    'tabNumber': '26973'},\n",
       "   {'employeeId': '5fffac2a-ab55-404f-b46b-d1cc53a43cb0',\n",
       "    'firstName': 'Максим',\n",
       "    'lastName': '3 CТ Соловьев',\n",
       "    'secondName': 'Сергеевич',\n",
       "    'tabNumber': '085'},\n",
       "   {'employeeId': '40384358-166f-4bf8-9dcc-387d20574725',\n",
       "    'firstName': 'Максим',\n",
       "    'lastName': '3 СТ Губа',\n",
       "    'secondName': '',\n",
       "    'tabNumber': '078'},\n",
       "   {'employeeId': '67596336-f9d3-422b-ac82-3480da920d91',\n",
       "    'firstName': 'Максим ',\n",
       "    'lastName': '3 СТ Гутов',\n",
       "    'secondName': 'Сергеевич',\n",
       "    'tabNumber': '074'},\n",
       "   {'employeeId': '7b3fd055-7103-4061-a4e2-6e13a5d61e2f',\n",
       "    'firstName': 'Максим',\n",
       "    'lastName': '3 СТ Маяцкий',\n",
       "    'secondName': '',\n",
       "    'tabNumber': '086'}],\n",
       "  'count': 5,\n",
       "  'pageIndex': 0,\n",
       "  'pageSize': 5,\n",
       "  'totalCount': 350,\n",
       "  'totalPages': 70,\n",
       "  'hasPreviousPage': False,\n",
       "  'hasNextPage': True},\n",
       " 'ok': True,\n",
       " 'activityId': '384ed87a-2afe-47d6-859c-11298012430d',\n",
       " 'metadata': {'message': 'Request to legacy sql without entity framework',\n",
       "  'type': 'Info',\n",
       "  'dataObject': None},\n",
       " 'exception': None,\n",
       " 'logs': ['Request to legacy sql without entity framework',\n",
       "  'Custom pagination used',\n",
       "  'Couriers is a proxy service']}"
      ]
     },
     "execution_count": 16,
     "metadata": {},
     "output_type": "execute_result"
    }
   ],
   "source": [
    "couriers"
   ]
  },
  {
   "cell_type": "code",
   "execution_count": 124,
   "metadata": {},
   "outputs": [],
   "source": [
    "ident = '359afb0c-b870-4610-9233-524db1d5a029'"
   ]
  },
  {
   "cell_type": "code",
   "execution_count": null,
   "metadata": {},
   "outputs": [],
   "source": []
  },
  {
   "cell_type": "code",
   "execution_count": 35,
   "metadata": {},
   "outputs": [],
   "source": [
    "params = {'PageIndex': '1',\n",
    "          'PageSize': '20',\n",
    "          'SortDirection': '1',\n",
    "          'Search': 'Москва',\n",
    "         }\n",
    "resp = requests.get(urls[8] + '/api/v1/addresses/get-paged',\n",
    "                   params = params,\n",
    "                   headers = {'Authorization': f'Bearer {tok}'})"
   ]
  },
  {
   "cell_type": "code",
   "execution_count": 36,
   "metadata": {},
   "outputs": [
    {
     "data": {
      "text/plain": [
       "200"
      ]
     },
     "execution_count": 36,
     "metadata": {},
     "output_type": "execute_result"
    }
   ],
   "source": [
    "resp.status_code"
   ]
  },
  {
   "cell_type": "code",
   "execution_count": 37,
   "metadata": {},
   "outputs": [
    {
     "data": {
      "text/plain": [
       "{'result': None,\n",
       " 'ok': False,\n",
       " 'activityId': 'rW1lMl5Vrlr',\n",
       " 'metadata': {'message': 'Execution Timeout Expired.  The timeout period elapsed prior to completion of the operation or the server is not responding.',\n",
       "  'type': 3,\n",
       "  'dataObject': None},\n",
       " 'exception': {'ClassName': 'Microsoft.Data.SqlClient.SqlException',\n",
       "  'Message': 'Execution Timeout Expired.  The timeout period elapsed prior to completion of the operation or the server is not responding.',\n",
       "  'Data': {'helpLink.ProdName': 'Microsoft SQL Server',\n",
       "   'helpLink.ProdVer': '10.50.6560',\n",
       "   'helpLink.EvtSrc': 'MSSQLServer',\n",
       "   'helpLink.EvtID': '-2',\n",
       "   'helpLink.BaseHelpUrl': 'http://go.microsoft.com/fwlink',\n",
       "   'helpLink.LinkId': '20476',\n",
       "   'sqlError 1': 'Microsoft.Data.SqlClient.SqlError: Execution Timeout Expired.  The timeout period elapsed prior to completion of the operation or the server is not responding.'},\n",
       "  'InnerException': {'ClassName': 'System.ComponentModel.Win32Exception',\n",
       "   'Message': 'Unknown error 258',\n",
       "   'Data': None,\n",
       "   'InnerException': None,\n",
       "   'HelpURL': None,\n",
       "   'StackTraceString': None,\n",
       "   'RemoteStackTraceString': None,\n",
       "   'RemoteStackIndex': 0,\n",
       "   'ExceptionMethod': None,\n",
       "   'HResult': -2147467259,\n",
       "   'Source': None,\n",
       "   'WatsonBuckets': None,\n",
       "   'NativeErrorCode': 258},\n",
       "  'HelpURL': None,\n",
       "  'StackTraceString': '   at Microsoft.Data.SqlClient.SqlConnection.OnError(SqlException exception, Boolean breakConnection, Action`1 wrapCloseInAction)\\n   at Microsoft.Data.SqlClient.SqlInternalConnection.OnError(SqlException exception, Boolean breakConnection, Action`1 wrapCloseInAction)\\n   at Microsoft.Data.SqlClient.TdsParser.ThrowExceptionAndWarning(TdsParserStateObject stateObj, Boolean callerHasConnectionLock, Boolean asyncClose)\\n   at Microsoft.Data.SqlClient.TdsParser.TryRun(RunBehavior runBehavior, SqlCommand cmdHandler, SqlDataReader dataStream, BulkCopySimpleResultSet bulkCopyHandler, TdsParserStateObject stateObj, Boolean& dataReady)\\n   at Microsoft.Data.SqlClient.SqlDataReader.TryConsumeMetaData()\\n   at Microsoft.Data.SqlClient.SqlDataReader.get_MetaData()\\n   at Microsoft.Data.SqlClient.SqlCommand.FinishExecuteReader(SqlDataReader ds, RunBehavior runBehavior, String resetOptionsString, Boolean isInternal, Boolean forDescribeParameterEncryption, Boolean shouldCacheForAlwaysEncrypted)\\n   at Microsoft.Data.SqlClient.SqlCommand.RunExecuteReaderTds(CommandBehavior cmdBehavior, RunBehavior runBehavior, Boolean returnStream, Boolean isAsync, Int32 timeout, Task& task, Boolean asyncWrite, Boolean inRetry, SqlDataReader ds, Boolean describeParameterEncryptionRequest)\\n   at Microsoft.Data.SqlClient.SqlCommand.RunExecuteReader(CommandBehavior cmdBehavior, RunBehavior runBehavior, Boolean returnStream, TaskCompletionSource`1 completion, Int32 timeout, Task& task, Boolean& usedCache, Boolean asyncWrite, Boolean inRetry, String method)\\n   at Microsoft.Data.SqlClient.SqlCommand.RunExecuteReader(CommandBehavior cmdBehavior, RunBehavior runBehavior, Boolean returnStream, String method)\\n   at Microsoft.Data.SqlClient.SqlCommand.ExecuteReader(CommandBehavior behavior)\\n   at Microsoft.Data.SqlClient.SqlCommand.ExecuteDbDataReader(CommandBehavior behavior)\\n   at System.Data.Common.DbCommand.ExecuteReader()\\n   at Microsoft.EntityFrameworkCore.Storage.RelationalCommand.ExecuteReader(RelationalCommandParameterObject parameterObject)\\n   at Microsoft.EntityFrameworkCore.Query.Internal.QueryingEnumerable`1.Enumerator.InitializeReader(DbContext _, Boolean result)\\n   at Microsoft.EntityFrameworkCore.SqlServer.Storage.Internal.SqlServerExecutionStrategy.Execute[TState,TResult](TState state, Func`3 operation, Func`3 verifySucceeded)\\n   at Microsoft.EntityFrameworkCore.Query.Internal.QueryingEnumerable`1.Enumerator.MoveNext()\\n   at System.Linq.Enumerable.Single[TSource](IEnumerable`1 source)\\n   at Microsoft.EntityFrameworkCore.Query.Internal.QueryCompiler.Execute[TResult](Expression query)\\n   at Microsoft.EntityFrameworkCore.Query.Internal.EntityQueryProvider.Execute[TResult](Expression expression)\\n   at System.Linq.Queryable.Count[TSource](IQueryable`1 source)\\n   at Calabonga.UnitOfWork.PagedList`1..ctor(IEnumerable`1 source, Int32 pageIndex, Int32 pageSize, Int32 indexFrom)\\n   at Calabonga.UnitOfWork.IEnumerablePagedListExtensions.ToPagedList[T](IEnumerable`1 source, Int32 pageIndex, Int32 pageSize, Int32 indexFrom)\\n   at Calabonga.UnitOfWork.Repository`1.GetPagedList(Expression`1 predicate, Func`2 orderBy, Func`2 include, Int32 pageIndex, Int32 pageSize, Boolean disableTracking, Boolean ignoreQueryFilters)\\n   at Calabonga.UnitOfWork.Controllers.Controllers.ReadOnlyController`3.GetPaged(TQueryParams queryParams, Boolean disabledDefaultIncludes)\\n   at lambda_method(Closure , Object , Object[] )\\n   at Microsoft.Extensions.Internal.ObjectMethodExecutor.Execute(Object target, Object[] parameters)\\n   at Microsoft.AspNetCore.Mvc.Infrastructure.ActionMethodExecutor.SyncObjectResultExecutor.Execute(IActionResultTypeMapper mapper, ObjectMethodExecutor executor, Object controller, Object[] arguments)\\n   at Microsoft.AspNetCore.Mvc.Infrastructure.ControllerActionInvoker.<InvokeActionMethodAsync>g__Logged|12_1(ControllerActionInvoker invoker)\\n   at Microsoft.AspNetCore.Mvc.Infrastructure.ControllerActionInvoker.<InvokeNextActionFilterAsync>g__Awaited|10_0(ControllerActionInvoker invoker, Task lastTask, State next, Scope scope, Object state, Boolean isCompleted)\\n   at Microsoft.AspNetCore.Mvc.Infrastructure.ControllerActionInvoker.Rethrow(ActionExecutedContextSealed context)\\n   at Microsoft.AspNetCore.Mvc.Infrastructure.ControllerActionInvoker.Next(State& next, Scope& scope, Object& state, Boolean& isCompleted)\\n   at Microsoft.AspNetCore.Mvc.Infrastructure.ControllerActionInvoker.InvokeInnerFilterAsync()\\n--- End of stack trace from previous location where exception was thrown ---\\n   at Microsoft.AspNetCore.Mvc.Infrastructure.ResourceInvoker.<InvokeFilterPipelineAsync>g__Awaited|19_0(ResourceInvoker invoker, Task lastTask, State next, Scope scope, Object state, Boolean isCompleted)\\n   at Microsoft.AspNetCore.Mvc.Infrastructure.ResourceInvoker.<InvokeAsync>g__Logged|17_1(ResourceInvoker invoker)\\n   at Microsoft.AspNetCore.Routing.EndpointMiddleware.<Invoke>g__AwaitRequestTask|6_0(Endpoint endpoint, Task requestTask, ILogger logger)\\n   at Microsoft.AspNetCore.Authorization.AuthorizationMiddleware.Invoke(HttpContext context)\\n   at Microsoft.AspNetCore.Authentication.AuthenticationMiddleware.Invoke(HttpContext context)\\n   at Calabonga.Microservices.Tracker.TrackerMiddleware.Invoke(HttpContext context, ITrackerContextFactory trackerContextFactory)\\n   at PE.Pegasus.Microservices.Extensions.Middlewares.ErrorHandlingMiddleware.Invoke(HttpContext context)',\n",
       "  'RemoteStackTraceString': None,\n",
       "  'RemoteStackIndex': 0,\n",
       "  'ExceptionMethod': None,\n",
       "  'HResult': -2146232060,\n",
       "  'Source': 'Core Microsoft SqlClient Data Provider',\n",
       "  'WatsonBuckets': None,\n",
       "  'Errors': None,\n",
       "  'ClientConnectionId': '8d662f47-1ee0-4c60-a72c-8b25e95c7d2a'},\n",
       " 'logs': ['[SYSTEM]: ErrorHandlingMiddleware',\n",
       "  'Execution Timeout Expired.  The timeout period elapsed prior to completion of the operation or the server is not responding.']}"
      ]
     },
     "execution_count": 37,
     "metadata": {},
     "output_type": "execute_result"
    }
   ],
   "source": [
    "resp_json = json.loads(resp.text)\n",
    "resp_json"
   ]
  },
  {
   "cell_type": "code",
   "execution_count": 61,
   "metadata": {},
   "outputs": [],
   "source": [
    "id_ = '11-1111-1111'\n",
    "data = {'eventBlockId': id_,\n",
    "       'isSortingEnabled': '1'}\n",
    "resp_1 = requests.post(urls[6] + f'/api/v1/pegasus-events71/get-events-by-event-block-id/{id_}',\n",
    "                     data = json.dumps(data),\n",
    "                     headers = {'Authorization': f'Bearer {tok}',\n",
    "                               'Content-type': 'application/json'})"
   ]
  },
  {
   "cell_type": "code",
   "execution_count": 62,
   "metadata": {},
   "outputs": [
    {
     "data": {
      "text/plain": [
       "405"
      ]
     },
     "execution_count": 62,
     "metadata": {},
     "output_type": "execute_result"
    }
   ],
   "source": [
    "resp_1.status_code"
   ]
  },
  {
   "cell_type": "code",
   "execution_count": null,
   "metadata": {},
   "outputs": [],
   "source": []
  },
  {
   "cell_type": "code",
   "execution_count": 32,
   "metadata": {},
   "outputs": [],
   "source": [
    "code = 71\n",
    "params = {'code': '71'}\n",
    "resp_2 = requests.get(urls[6] + f'/api/v1/event-types/get-by-code/{code}',\n",
    "                     params = params,\n",
    "                     headers = {'Authorization': f'Bearer {tok}'})"
   ]
  },
  {
   "cell_type": "code",
   "execution_count": 33,
   "metadata": {},
   "outputs": [
    {
     "data": {
      "text/plain": [
       "200"
      ]
     },
     "execution_count": 33,
     "metadata": {},
     "output_type": "execute_result"
    }
   ],
   "source": [
    "resp_2.status_code"
   ]
  },
  {
   "cell_type": "code",
   "execution_count": 34,
   "metadata": {},
   "outputs": [
    {
     "data": {
      "text/plain": [
       "{'result': {'code': 71,\n",
       "  'title': 'Прибыл на склад',\n",
       "  'eventClass': None,\n",
       "  'eventClassId': 'afa3c2e8-3fe4-e111-b085-782bcb425909',\n",
       "  'id': 'a7bfae3c-827c-40d5-a195-22b138bfe137'},\n",
       " 'ok': True,\n",
       " 'activityId': '05f9b414-595c-48a6-bd16-df4be5ef1874',\n",
       " 'metadata': None,\n",
       " 'exception': None,\n",
       " 'logs': []}"
      ]
     },
     "execution_count": 34,
     "metadata": {},
     "output_type": "execute_result"
    }
   ],
   "source": [
    "json.loads(resp_2.text)"
   ]
  },
  {
   "cell_type": "code",
   "execution_count": null,
   "metadata": {},
   "outputs": [],
   "source": []
  },
  {
   "cell_type": "code",
   "execution_count": 29,
   "metadata": {},
   "outputs": [],
   "source": [
    "params = {'PageIndex': '1',\n",
    "          'PageSize': '20',\n",
    "          'SortDirection': '1',\n",
    "          'Search': 'прибыл',\n",
    "         }\n",
    "resp_22 = requests.get(urls[6] + '/api/v1/event-types/get-paged',\n",
    "                     params = params,\n",
    "                     headers = {'Authorization': f'Bearer {tok}'})"
   ]
  },
  {
   "cell_type": "code",
   "execution_count": 30,
   "metadata": {},
   "outputs": [
    {
     "data": {
      "text/plain": [
       "200"
      ]
     },
     "execution_count": 30,
     "metadata": {},
     "output_type": "execute_result"
    }
   ],
   "source": [
    "resp_22.status_code"
   ]
  },
  {
   "cell_type": "code",
   "execution_count": 31,
   "metadata": {},
   "outputs": [
    {
     "data": {
      "text/plain": [
       "{'result': None,\n",
       " 'ok': False,\n",
       " 'activityId': 'jFNXUDW8ges',\n",
       " 'metadata': {'message': \"Incorrect syntax near 'OFFSET'.\\nInvalid usage of the option NEXT in the FETCH statement.\",\n",
       "  'type': 3,\n",
       "  'dataObject': None},\n",
       " 'exception': {'ClassName': 'Microsoft.Data.SqlClient.SqlException',\n",
       "  'Message': \"Incorrect syntax near 'OFFSET'.\\nInvalid usage of the option NEXT in the FETCH statement.\",\n",
       "  'Data': {'helpLink.ProdName': 'Microsoft SQL Server',\n",
       "   'helpLink.ProdVer': '10.50.6560',\n",
       "   'helpLink.EvtSrc': 'MSSQLServer',\n",
       "   'helpLink.EvtID': '102',\n",
       "   'helpLink.BaseHelpUrl': 'http://go.microsoft.com/fwlink',\n",
       "   'helpLink.LinkId': '20476',\n",
       "   'sqlError 1': \"Microsoft.Data.SqlClient.SqlError: Incorrect syntax near 'OFFSET'.\",\n",
       "   'sqlError 2': 'Microsoft.Data.SqlClient.SqlError: Invalid usage of the option NEXT in the FETCH statement.'},\n",
       "  'InnerException': None,\n",
       "  'HelpURL': None,\n",
       "  'StackTraceString': '   at Microsoft.Data.SqlClient.SqlCommand.<>c.<ExecuteDbDataReaderAsync>b__164_0(Task`1 result)\\n   at System.Threading.Tasks.ContinuationResultTaskFromResultTask`2.InnerInvoke()\\n   at System.Threading.ExecutionContext.RunInternal(ExecutionContext executionContext, ContextCallback callback, Object state)\\n--- End of stack trace from previous location where exception was thrown ---\\n   at System.Threading.Tasks.Task.ExecuteWithThreadLocal(Task& currentTaskSlot, Thread threadPoolThread)\\n--- End of stack trace from previous location where exception was thrown ---\\n   at Microsoft.EntityFrameworkCore.Storage.RelationalCommand.ExecuteReaderAsync(RelationalCommandParameterObject parameterObject, CancellationToken cancellationToken)\\n   at Microsoft.EntityFrameworkCore.Storage.RelationalCommand.ExecuteReaderAsync(RelationalCommandParameterObject parameterObject, CancellationToken cancellationToken)\\n   at Microsoft.EntityFrameworkCore.Storage.RelationalCommand.ExecuteReaderAsync(RelationalCommandParameterObject parameterObject, CancellationToken cancellationToken)\\n   at Microsoft.EntityFrameworkCore.Query.Internal.QueryingEnumerable`1.AsyncEnumerator.InitializeReaderAsync(DbContext _, Boolean result, CancellationToken cancellationToken)\\n   at Microsoft.EntityFrameworkCore.SqlServer.Storage.Internal.SqlServerExecutionStrategy.ExecuteAsync[TState,TResult](TState state, Func`4 operation, Func`4 verifySucceeded, CancellationToken cancellationToken)\\n   at Microsoft.EntityFrameworkCore.Query.Internal.QueryingEnumerable`1.AsyncEnumerator.MoveNextAsync()\\n   at Microsoft.EntityFrameworkCore.EntityFrameworkQueryableExtensions.ToListAsync[TSource](IQueryable`1 source, CancellationToken cancellationToken)\\n   at Microsoft.EntityFrameworkCore.EntityFrameworkQueryableExtensions.ToListAsync[TSource](IQueryable`1 source, CancellationToken cancellationToken)\\n   at Calabonga.UnitOfWork.IQueryablePageListExtensions.ToPagedListAsync[T](IQueryable`1 source, Int32 pageIndex, Int32 pageSize, Int32 indexFrom, CancellationToken cancellationToken)\\n   at Calabonga.AspNetCore.Controllers.Handlers.GetPagedHandlerBase`4.Handle(TRequest request, CancellationToken cancellationToken)\\n   at MediatR.Pipeline.RequestExceptionProcessorBehavior`2.Handle(TRequest request, CancellationToken cancellationToken, RequestHandlerDelegate`1 next)\\n   at MediatR.Pipeline.RequestExceptionProcessorBehavior`2.Handle(TRequest request, CancellationToken cancellationToken, RequestHandlerDelegate`1 next)\\n   at MediatR.Pipeline.RequestExceptionActionProcessorBehavior`2.Handle(TRequest request, CancellationToken cancellationToken, RequestHandlerDelegate`1 next)\\n   at MediatR.Pipeline.RequestExceptionActionProcessorBehavior`2.Handle(TRequest request, CancellationToken cancellationToken, RequestHandlerDelegate`1 next)\\n   at MediatR.Pipeline.RequestPostProcessorBehavior`2.Handle(TRequest request, CancellationToken cancellationToken, RequestHandlerDelegate`1 next)\\n   at MediatR.Pipeline.RequestPreProcessorBehavior`2.Handle(TRequest request, CancellationToken cancellationToken, RequestHandlerDelegate`1 next)\\n   at PE.Pegasus.Events.Web.Controllers.EventTypes.EventTypesController.GetPaged(DefaultPagedListQueryParams queryParams) in /opt/tfsagent/_work/11/s/PE.Pegasus.Events/PE.Pegasus.Events.Web/Controllers/EventTypes/EventTypesController.cs:line 35\\n   at lambda_method(Closure , Object )\\n   at Microsoft.Extensions.Internal.ObjectMethodExecutorAwaitable.Awaiter.GetResult()\\n   at Microsoft.AspNetCore.Mvc.Infrastructure.ActionMethodExecutor.AwaitableObjectResultExecutor.Execute(IActionResultTypeMapper mapper, ObjectMethodExecutor executor, Object controller, Object[] arguments)\\n   at Microsoft.AspNetCore.Mvc.Infrastructure.ControllerActionInvoker.<InvokeActionMethodAsync>g__Logged|12_1(ControllerActionInvoker invoker)\\n   at Microsoft.AspNetCore.Mvc.Infrastructure.ControllerActionInvoker.<InvokeNextActionFilterAsync>g__Awaited|10_0(ControllerActionInvoker invoker, Task lastTask, State next, Scope scope, Object state, Boolean isCompleted)\\n   at Microsoft.AspNetCore.Mvc.Infrastructure.ControllerActionInvoker.Rethrow(ActionExecutedContextSealed context)\\n   at Microsoft.AspNetCore.Mvc.Infrastructure.ControllerActionInvoker.Next(State& next, Scope& scope, Object& state, Boolean& isCompleted)\\n   at Microsoft.AspNetCore.Mvc.Infrastructure.ControllerActionInvoker.<InvokeInnerFilterAsync>g__Awaited|13_0(ControllerActionInvoker invoker, Task lastTask, State next, Scope scope, Object state, Boolean isCompleted)\\n   at Microsoft.AspNetCore.Mvc.Infrastructure.ResourceInvoker.<InvokeFilterPipelineAsync>g__Awaited|19_0(ResourceInvoker invoker, Task lastTask, State next, Scope scope, Object state, Boolean isCompleted)\\n   at Microsoft.AspNetCore.Mvc.Infrastructure.ResourceInvoker.<InvokeAsync>g__Logged|17_1(ResourceInvoker invoker)\\n   at Microsoft.AspNetCore.Routing.EndpointMiddleware.<Invoke>g__AwaitRequestTask|6_0(Endpoint endpoint, Task requestTask, ILogger logger)\\n   at Microsoft.AspNetCore.Authorization.AuthorizationMiddleware.Invoke(HttpContext context)\\n   at Microsoft.AspNetCore.Authentication.AuthenticationMiddleware.Invoke(HttpContext context)\\n   at Calabonga.Microservices.Tracker.TrackerMiddleware.Invoke(HttpContext context, ITrackerContextFactory trackerContextFactory)\\n   at PE.Pegasus.Microservices.Extensions.Middlewares.ErrorHandlingMiddleware.Invoke(HttpContext context)',\n",
       "  'RemoteStackTraceString': None,\n",
       "  'RemoteStackIndex': 0,\n",
       "  'ExceptionMethod': None,\n",
       "  'HResult': -2146232060,\n",
       "  'Source': 'Core Microsoft SqlClient Data Provider',\n",
       "  'WatsonBuckets': None,\n",
       "  'Errors': None,\n",
       "  'ClientConnectionId': '8deeb7c9-3568-4e90-b1f5-de5d260d89a4'},\n",
       " 'logs': ['[SYSTEM]: ErrorHandlingMiddleware',\n",
       "  \"Incorrect syntax near 'OFFSET'.\\nInvalid usage of the option NEXT in the FETCH statement.\"]}"
      ]
     },
     "execution_count": 31,
     "metadata": {},
     "output_type": "execute_result"
    }
   ],
   "source": [
    "json.loads(resp_22.text)"
   ]
  },
  {
   "cell_type": "code",
   "execution_count": 70,
   "metadata": {},
   "outputs": [],
   "source": [
    "resp_2 = requests.get(urls[6] + '/api/v1/pegasus-events/get-events-by-event-block-id',\n",
    "                     params = {'eventBlockId': None},\n",
    "                     headers = {'Authorization': f'Bearer {tok}'})"
   ]
  },
  {
   "cell_type": "code",
   "execution_count": 71,
   "metadata": {},
   "outputs": [
    {
     "data": {
      "text/plain": [
       "200"
      ]
     },
     "execution_count": 71,
     "metadata": {},
     "output_type": "execute_result"
    }
   ],
   "source": [
    "resp_2.status_code"
   ]
  },
  {
   "cell_type": "code",
   "execution_count": 73,
   "metadata": {},
   "outputs": [
    {
     "data": {
      "text/plain": [
       "{'result': None,\n",
       " 'ok': False,\n",
       " 'activityId': '44ddf12d-65c0-42cc-939d-bf2f45dfe746',\n",
       " 'metadata': {'message': 'Empty identifier exception',\n",
       "  'type': 'Error',\n",
       "  'dataObject': None},\n",
       " 'exception': {'ClassName': 'Calabonga.Microservices.Core.Exceptions.MicroserviceArgumentNullException',\n",
       "  'Message': 'Empty identifier exception',\n",
       "  'Data': {},\n",
       "  'InnerException': None,\n",
       "  'HelpURL': None,\n",
       "  'StackTraceString': None,\n",
       "  'RemoteStackTraceString': None,\n",
       "  'RemoteStackIndex': 0,\n",
       "  'ExceptionMethod': None,\n",
       "  'HResult': -2146233088,\n",
       "  'Source': None,\n",
       "  'WatsonBuckets': None},\n",
       " 'logs': ['Empty identifier exception']}"
      ]
     },
     "execution_count": 73,
     "metadata": {},
     "output_type": "execute_result"
    }
   ],
   "source": [
    "json.loads(resp_2.text)"
   ]
  },
  {
   "cell_type": "code",
   "execution_count": null,
   "metadata": {},
   "outputs": [],
   "source": []
  }
 ],
 "metadata": {
  "kernelspec": {
   "display_name": "Python 3",
   "language": "python",
   "name": "python3"
  },
  "language_info": {
   "codemirror_mode": {
    "name": "ipython",
    "version": 3
   },
   "file_extension": ".py",
   "mimetype": "text/x-python",
   "name": "python",
   "nbconvert_exporter": "python",
   "pygments_lexer": "ipython3",
   "version": "3.6.8"
  }
 },
 "nbformat": 4,
 "nbformat_minor": 2
}
