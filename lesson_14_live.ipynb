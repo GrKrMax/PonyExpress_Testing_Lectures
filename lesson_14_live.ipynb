{
 "cells": [
  {
   "cell_type": "code",
   "execution_count": 13,
   "metadata": {},
   "outputs": [
    {
     "name": "stdout",
     "output_type": "stream",
     "text": [
      "2\n"
     ]
    }
   ],
   "source": [
    "import tkinter\n",
    "from tkinter import *\n",
    "import tkinter as tk\n",
    "from tkinter import Tk, Canvas, Frame, BOTH\n",
    "\n",
    "def WriteIter(canv,x1,x2,y1,y2):\n",
    "    a = list()\n",
    "    a=[[x1,y1],\n",
    "       [x1+(x2-x1)/3,y1+(y2-y1)/3],\n",
    "       [x1+(x2-x1)*2/3,y1+(y2-y1)*2/3],\n",
    "       [x2,y2]]\n",
    "    b = list()\n",
    "    b = a\n",
    "    a = [[x1,y1],\n",
    "         [x1+(x2-x1)/3,y1+(y2-y1)/3],\n",
    "         [b[1][0]+(b[1][0]-x1)/2-((3**1/2)/2)*(b[1][1]-y1),b[1][1]+(b[1][0]-x1)*((3**1/2)/2)+(b[1][1]-y1)/2],\n",
    "         [x1+(x2-x1)*2/3,y1+(y2-y1)*2/3],\n",
    "         [x2,y2]]\n",
    "    for i in range(0,4):\n",
    "        canv.create_line(a[i][0],a[i][1],a[i+1][0],a[i+1][1])\n",
    "    canv.create_line(a[1][0],a[1][1],a[3][0],a[3][1], fill = \"white\")\n",
    "    return a\n",
    "\n",
    "def Koch(canv,listOfAngles,num):\n",
    "    if num == 0:\n",
    "        return\n",
    "    new = listOfAngles\n",
    "    for i in range(0,len(listOfAngles)):\n",
    "        tmp = list()\n",
    "        tmp = WriteIter(canv,listOfAngles[i][0],listOfAngles[i][1],listOfAngles[i+1][0],listOfAngles[i+1][1])\n",
    "        k = 0\n",
    "        for j in tmp:\n",
    "            new.insert(i+k,j)\n",
    "            k = k + 1\n",
    "    listOfAngles = new\n",
    "    num = num - 1\n",
    "    Koch(canv,listOfAngles,num)\n",
    "\n",
    "\n",
    "if __name__ == '__main__':\n",
    "    root = Tk()\n",
    "    listOfAngles = list()\n",
    "    canv = Canvas(root, width=1000, height=1000)\n",
    "    num = int(input())\n",
    "    listOfAngles = [[0, 0], [1000, 0]]\n",
    "    Koch(canv,listOfAngles,num)\n",
    "    canv.pack()\n",
    "    root.mainloop()"
   ]
  },
  {
   "cell_type": "code",
   "execution_count": 5,
   "metadata": {},
   "outputs": [
    {
     "data": {
      "text/plain": [
       "'asdfasdf12'"
      ]
     },
     "execution_count": 5,
     "metadata": {},
     "output_type": "execute_result"
    }
   ],
   "source": [
    "s = 'asdfasdf'\n",
    "a = 12\n",
    "s + f'{a}'"
   ]
  },
  {
   "cell_type": "code",
   "execution_count": 10,
   "metadata": {},
   "outputs": [
    {
     "data": {
      "text/plain": [
       "'asdfadf 12'"
      ]
     },
     "execution_count": 10,
     "metadata": {},
     "output_type": "execute_result"
    }
   ],
   "source": [
    "f'asdfadf {a}'"
   ]
  },
  {
   "cell_type": "code",
   "execution_count": null,
   "metadata": {},
   "outputs": [],
   "source": [
    "answ['result']['hostname']"
   ]
  }
 ],
 "metadata": {
  "kernelspec": {
   "display_name": "Python 3",
   "language": "python",
   "name": "python3"
  },
  "language_info": {
   "codemirror_mode": {
    "name": "ipython",
    "version": 3
   },
   "file_extension": ".py",
   "mimetype": "text/x-python",
   "name": "python",
   "nbconvert_exporter": "python",
   "pygments_lexer": "ipython3",
   "version": "3.6.8"
  }
 },
 "nbformat": 4,
 "nbformat_minor": 2
}
