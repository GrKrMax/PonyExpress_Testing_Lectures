{
 "cells": [
  {
   "cell_type": "code",
   "execution_count": 1,
   "metadata": {},
   "outputs": [],
   "source": [
    "import requests\n",
    "import json\n",
    "import pathes"
   ]
  },
  {
   "cell_type": "code",
   "execution_count": 2,
   "metadata": {},
   "outputs": [],
   "source": [
    "def auth_ (login, password):\n",
    "    headers = {'Content-Type': 'application/x-www-form-urlencoded'}\n",
    "    data = {'username': login, \n",
    "              'password': password, \n",
    "              'grant_type': 'password', \n",
    "              'scope': 'pegasus', \n",
    "              'client_id': 'pegasus-v2', \n",
    "              'client_secret': 'secret'}\n",
    "    url = \"http://srv-pnew-01-test:1001/auth/connect/token\"\n",
    "    r = requests.post(url, data = data, headers = headers)\n",
    "    answer = json.loads(r.text)\n",
    "    tok = answer[\"access_token\"]\n",
    "    return tok"
   ]
  },
  {
   "cell_type": "code",
   "execution_count": 3,
   "metadata": {},
   "outputs": [],
   "source": [
    "tok = auth_(pathes.new_login, pathes.new_password)"
   ]
  },
  {
   "cell_type": "markdown",
   "metadata": {},
   "source": [
    "---------"
   ]
  },
  {
   "cell_type": "code",
   "execution_count": 40,
   "metadata": {},
   "outputs": [],
   "source": [
    "url = 'http://srv-pnew-01-test.ponyex.local:1001/api/v1/user-profile-groups/get-limit/1000'\n",
    "r = requests.get(url, \n",
    "                 headers = {'Authorization': f'Bearer {tok}'})"
   ]
  },
  {
   "cell_type": "code",
   "execution_count": 41,
   "metadata": {},
   "outputs": [
    {
     "data": {
      "text/plain": [
       "200"
      ]
     },
     "execution_count": 41,
     "metadata": {},
     "output_type": "execute_result"
    }
   ],
   "source": [
    "r.status_code"
   ]
  },
  {
   "cell_type": "code",
   "execution_count": 42,
   "metadata": {},
   "outputs": [
    {
     "data": {
      "text/plain": [
       "{'result': [{'displayName': 'Бета-тестеры',\n",
       "   'createdAt': '2019-07-24T11:19:53.4810888Z',\n",
       "   'createdBy': 'Anonymous',\n",
       "   'userProfilesCount': 19,\n",
       "   'permissionGroupsCount': 5,\n",
       "   'id': '18b548d7-2165-46e0-f4db-08d71025989e'},\n",
       "  {'displayName': 'ADM-аккаунты',\n",
       "   'createdAt': '2019-07-25T07:52:43.0172278Z',\n",
       "   'createdBy': 'Anonymous',\n",
       "   'userProfilesCount': 7,\n",
       "   'permissionGroupsCount': 1,\n",
       "   'id': 'c61d7d1a-7a8b-49cc-b045-08d710d31e65'},\n",
       "  {'displayName': 'Максимальные права',\n",
       "   'createdAt': '2019-10-10T07:33:48.4123613Z',\n",
       "   'createdBy': 'sa.yarushok',\n",
       "   'userProfilesCount': 3,\n",
       "   'permissionGroupsCount': 11,\n",
       "   'id': 'ceda5757-4452-49e6-748f-08d7142ae5c3'},\n",
       "  {'displayName': 'Емельянов без удаления',\n",
       "   'createdAt': '2019-08-20T06:53:48.8007599Z',\n",
       "   'createdBy': 'an.kutkin',\n",
       "   'userProfilesCount': 1,\n",
       "   'permissionGroupsCount': 1,\n",
       "   'id': '21bc0438-5bea-4e91-bea9-08d7225fe17f'},\n",
       "  {'displayName': 'for testing',\n",
       "   'createdAt': '2020-06-30T08:47:31.7541333Z',\n",
       "   'createdBy': 'ea.rudina',\n",
       "   'userProfilesCount': 4,\n",
       "   'permissionGroupsCount': 5,\n",
       "   'id': 'd74798ff-8df5-472f-b7eb-08d7279b30e7'},\n",
       "  {'displayName': 'ADM-test (DELETE)',\n",
       "   'createdAt': '2019-09-27T15:16:25.7762948Z',\n",
       "   'createdBy': 'sa.yarushok',\n",
       "   'userProfilesCount': 0,\n",
       "   'permissionGroupsCount': 0,\n",
       "   'id': '9438eb5d-d254-4476-17de-08d7432cb0f8'},\n",
       "  {'displayName': 'Тестовая группа',\n",
       "   'createdAt': '2019-09-27T15:37:08.7544784Z',\n",
       "   'createdBy': 'da.smirnov',\n",
       "   'userProfilesCount': 1,\n",
       "   'permissionGroupsCount': 1,\n",
       "   'id': '6bb2d4bc-6930-4446-17e0-08d7432cb0f8'},\n",
       "  {'displayName': 'водители',\n",
       "   'createdAt': '2020-07-02T03:24:51.4513668Z',\n",
       "   'createdBy': 'ea.rudina',\n",
       "   'userProfilesCount': 0,\n",
       "   'permissionGroupsCount': 4,\n",
       "   'id': '8d49008b-346a-4963-41fb-08d74671c13f'},\n",
       "  {'displayName': 'Кладовщики',\n",
       "   'createdAt': '2019-10-07T14:28:03.6910034Z',\n",
       "   'createdBy': 'rf.semenov',\n",
       "   'userProfilesCount': 0,\n",
       "   'permissionGroupsCount': 2,\n",
       "   'id': 'a3e008a0-37ee-4697-7128-08d74b329042'},\n",
       "  {'displayName': 'Грузчики(тест_)',\n",
       "   'createdAt': '2020-01-22T07:51:02.0388356Z',\n",
       "   'createdBy': 'pa.shkret',\n",
       "   'userProfilesCount': 1,\n",
       "   'permissionGroupsCount': 0,\n",
       "   'id': '3f51195d-63dc-4c12-1af1-08d79f0ef3b9'},\n",
       "  {'displayName': 'RO',\n",
       "   'createdAt': '2020-08-20T14:33:25.013946Z',\n",
       "   'createdBy': 'ia.kuznetsov',\n",
       "   'userProfilesCount': 1,\n",
       "   'permissionGroupsCount': 1,\n",
       "   'id': '335aa266-3f83-4c3d-6055-08d84515ff47'},\n",
       "  {'displayName': 'Тест_ДМ',\n",
       "   'createdAt': '2020-10-05T07:42:08.4571017Z',\n",
       "   'createdBy': 'pa.shkret',\n",
       "   'userProfilesCount': 1,\n",
       "   'permissionGroupsCount': 2,\n",
       "   'id': '4905c814-1b9f-4271-6d58-08d8690229c6'},\n",
       "  {'displayName': 'Group 303',\n",
       "   'createdAt': '2020-10-27T10:29:03.6301605Z',\n",
       "   'createdBy': 'ext.mgu_education',\n",
       "   'userProfilesCount': 0,\n",
       "   'permissionGroupsCount': 0,\n",
       "   'id': 'c8fce5db-4d12-43fb-fa8c-08d87a63103e'},\n",
       "  {'displayName': 'rg#P5hZm4F',\n",
       "   'createdAt': '2020-10-27T13:06:30.8847857Z',\n",
       "   'createdBy': 'ext.mgu_education',\n",
       "   'userProfilesCount': 0,\n",
       "   'permissionGroupsCount': 0,\n",
       "   'id': 'b31408e0-6bae-487b-fa92-08d87a63103e'},\n",
       "  {'displayName': 'Group7',\n",
       "   'createdAt': '2020-11-27T14:22:05.0105053Z',\n",
       "   'createdBy': 'ext.mgu_education',\n",
       "   'userProfilesCount': 0,\n",
       "   'permissionGroupsCount': 0,\n",
       "   'id': 'ad680644-f8dd-47a2-1c19-08d892db3003'},\n",
       "  {'displayName': 'test_gr_3',\n",
       "   'createdAt': '2020-12-11T13:57:15.0308428Z',\n",
       "   'createdBy': 'ext.mgu2_education',\n",
       "   'userProfilesCount': 0,\n",
       "   'permissionGroupsCount': 0,\n",
       "   'id': '889ab2d2-d99e-4d95-3f92-08d89dd5dc02'},\n",
       "  {'displayName': 'DEVELOPERS',\n",
       "   'createdAt': '2020-11-17T08:24:29.5662088Z',\n",
       "   'createdBy': 'na.ksenzov',\n",
       "   'userProfilesCount': 10,\n",
       "   'permissionGroupsCount': 2,\n",
       "   'id': '14059308-0263-4993-a44a-d9ff07502b0c'}],\n",
       " 'ok': True,\n",
       " 'activityId': '44c8a6df-f422-421f-8e4c-120fd8b1499e',\n",
       " 'metadata': None,\n",
       " 'exception': None,\n",
       " 'logs': []}"
      ]
     },
     "execution_count": 42,
     "metadata": {},
     "output_type": "execute_result"
    }
   ],
   "source": [
    "answr = json.loads(r.text)\n",
    "answr"
   ]
  },
  {
   "cell_type": "code",
   "execution_count": 43,
   "metadata": {},
   "outputs": [],
   "source": [
    "with open('text.txt', 'w') as f:\n",
    "    json.dump(answr, f)"
   ]
  },
  {
   "cell_type": "code",
   "execution_count": 44,
   "metadata": {},
   "outputs": [
    {
     "data": {
      "text/plain": [
       "17"
      ]
     },
     "execution_count": 44,
     "metadata": {},
     "output_type": "execute_result"
    }
   ],
   "source": [
    "len(answr['result'])"
   ]
  },
  {
   "cell_type": "code",
   "execution_count": 46,
   "metadata": {},
   "outputs": [
    {
     "name": "stdout",
     "output_type": "stream",
     "text": [
      "Бета-тестеры\n",
      "ADM-аккаунты\n",
      "Максимальные права\n",
      "Емельянов без удаления\n",
      "for testing\n",
      "ADM-test (DELETE)\n",
      "Тестовая группа\n",
      "водители\n",
      "Кладовщики\n",
      "Грузчики(тест_)\n",
      "RO\n",
      "Тест_ДМ\n",
      "Group 303\n",
      "rg#P5hZm4F\n",
      "Group7\n",
      "test_gr_3\n",
      "DEVELOPERS\n"
     ]
    }
   ],
   "source": [
    "\n",
    "for c in answr['result']:\n",
    "    print(c['displayName'])"
   ]
  },
  {
   "cell_type": "markdown",
   "metadata": {},
   "source": [
    "-----"
   ]
  },
  {
   "cell_type": "code",
   "execution_count": 38,
   "metadata": {},
   "outputs": [],
   "source": [
    "url = 'http://srv-pnew-01-test.ponyex.local:1001/api/v1/user-profile-groups/post-item'\n",
    "data = {'displayName': \"test_gr_3\"}\n",
    "headers = {'Content-Type': 'application/json',\n",
    "          'Authorization': f'Bearer {tok}',\n",
    "          }\n",
    "r = requests.post(url, data = json.dumps(data), headers = headers)\n",
    "#r = requests.post(url, json = data, headers = headers)"
   ]
  },
  {
   "cell_type": "code",
   "execution_count": 39,
   "metadata": {},
   "outputs": [
    {
     "data": {
      "text/plain": [
       "{'result': None,\n",
       " 'ok': False,\n",
       " 'activityId': '66abd1cc-ba5b-4fb4-855c-25eee708a678',\n",
       " 'metadata': {'message': 'UserProfileGroup already exists with \"DisplayName\": \"test_gr_3\"',\n",
       "  'type': 'Error',\n",
       "  'dataObject': [{'message': 'UserProfileGroup already exists with \"DisplayName\": \"test_gr_3\"',\n",
       "    'isNeedToStop': False}]},\n",
       " 'exception': {'ClassName': 'Calabonga.Microservices.Core.Exceptions.MicroserviceEntityValidationException',\n",
       "  'Message': 'UserProfileGroup already exists with \"DisplayName\": \"test_gr_3\"',\n",
       "  'Data': {},\n",
       "  'InnerException': None,\n",
       "  'HelpURL': None,\n",
       "  'StackTraceString': None,\n",
       "  'RemoteStackTraceString': None,\n",
       "  'RemoteStackIndex': 0,\n",
       "  'ExceptionMethod': None,\n",
       "  'HResult': -2146233088,\n",
       "  'Source': None,\n",
       "  'WatsonBuckets': None},\n",
       " 'logs': ['UserProfileGroup already exists with \"DisplayName\": \"test_gr_3\"',\n",
       "  '[UserName]: ext.mgu2_education',\n",
       "  'UserProfileGroup already exists with \"DisplayName\": \"test_gr_3\"']}"
      ]
     },
     "execution_count": 39,
     "metadata": {},
     "output_type": "execute_result"
    }
   ],
   "source": [
    "json.loads(r.text)"
   ]
  },
  {
   "cell_type": "code",
   "execution_count": 35,
   "metadata": {},
   "outputs": [],
   "source": [
    "res = json.loads(r.text)['result']"
   ]
  },
  {
   "cell_type": "markdown",
   "metadata": {},
   "source": [
    "-------"
   ]
  },
  {
   "cell_type": "code",
   "execution_count": 43,
   "metadata": {},
   "outputs": [],
   "source": [
    "url = 'http://srv-pnew-01-test.ponyex.local:1001/api/v1/user-profile-groups/delete-item'\n",
    "headers = {'Authorization': f'Bearer {tok}'}\n",
    "params = {'id': '79948fe2-e772-4cb4-1c17-08d892db3003'}\n",
    "r = requests.delete(url, headers = headers, params = params)"
   ]
  },
  {
   "cell_type": "code",
   "execution_count": 44,
   "metadata": {},
   "outputs": [
    {
     "data": {
      "text/plain": [
       "200"
      ]
     },
     "execution_count": 44,
     "metadata": {},
     "output_type": "execute_result"
    }
   ],
   "source": [
    "r.status_code"
   ]
  },
  {
   "cell_type": "code",
   "execution_count": 46,
   "metadata": {},
   "outputs": [
    {
     "data": {
      "text/plain": [
       "{'result': {'displayName': 'test_gr_3',\n",
       "  'createdAt': '2020-11-27T13:57:29.5205986Z',\n",
       "  'createdBy': 'ext.mgu2_education',\n",
       "  'userProfilesCount': 0,\n",
       "  'permissionGroupsCount': 0,\n",
       "  'id': '79948fe2-e772-4cb4-1c17-08d892db3003'},\n",
       " 'ok': True,\n",
       " 'activityId': 'e57a9458-25ea-43e7-adc2-6772f791bdac',\n",
       " 'metadata': None,\n",
       " 'exception': None,\n",
       " 'logs': ['[UserName]: ext.mgu2_education']}"
      ]
     },
     "execution_count": 46,
     "metadata": {},
     "output_type": "execute_result"
    }
   ],
   "source": [
    "json.loads(r.text)"
   ]
  },
  {
   "cell_type": "markdown",
   "metadata": {},
   "source": [
    "Получить список групп пользователей с помощью запроса\n",
    "\n",
    "Создать собственную группу\n",
    "\n",
    "Проверить ее наличие в списке групп\n",
    "\n",
    "удалить созданную группу\n",
    "\n",
    "Проверить ее наличие в списке групп"
   ]
  },
  {
   "cell_type": "code",
   "execution_count": null,
   "metadata": {},
   "outputs": [],
   "source": []
  }
 ],
 "metadata": {
  "kernelspec": {
   "display_name": "Python 3",
   "language": "python",
   "name": "python3"
  },
  "language_info": {
   "codemirror_mode": {
    "name": "ipython",
    "version": 3
   },
   "file_extension": ".py",
   "mimetype": "text/x-python",
   "name": "python",
   "nbconvert_exporter": "python",
   "pygments_lexer": "ipython3",
   "version": "3.6.8"
  }
 },
 "nbformat": 4,
 "nbformat_minor": 2
}
