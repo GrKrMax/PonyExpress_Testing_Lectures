{
 "cells": [
  {
   "cell_type": "code",
   "execution_count": 1,
   "metadata": {},
   "outputs": [
    {
     "name": "stdout",
     "output_type": "stream",
     "text": [
      "6.0\n",
      "2.0\n"
     ]
    }
   ],
   "source": [
    "class Rectangle:\n",
    "    def __init__(self,list_of_dots=[]):\n",
    "        vector1 = [0,0]\n",
    "        vector2 = [0,0]\n",
    "        vector3 = [0,0]\n",
    "        vector1[0] = list_of_dots[1][0] - list_of_dots[0][0]\n",
    "        vector1[1] = list_of_dots[1][1] - list_of_dots[0][1]\n",
    "        vector2[0] = list_of_dots[2][0] - list_of_dots[0][0]\n",
    "        vector2[1] = list_of_dots[2][1] - list_of_dots[0][1]\n",
    "        vector3[0] = list_of_dots[3][0] - list_of_dots[0][0]\n",
    "        vector3[1] = list_of_dots[3][1] - list_of_dots[0][1]\n",
    "        scalyar1 = int()\n",
    "        scalyar2 = int()\n",
    "        scalyar3 = int()\n",
    "        scalyar1 = vector1[0] * vector2[0] + vector1[1] * vector2[1]\n",
    "        scalyar2 = vector1[0] * vector3[0] + vector1[1] * vector3[1]\n",
    "        scalyar3 = vector3[0] * vector2[0] + vector3[1] * vector2[1]\n",
    "        if scalyar1 == 0 :\n",
    "            self.dot1 = list_of_dots[0]\n",
    "            self.dot2 = list_of_dots[1]\n",
    "            self.dot3 = list_of_dots[3]\n",
    "            self.dot4 = list_of_dots[2]\n",
    "        if scalyar2 == 0:\n",
    "            self.dot1 = list_of_dots[0]\n",
    "            self.dot2 = list_of_dots[1]\n",
    "            self.dot3 = list_of_dots[2]\n",
    "            self.dot4 = list_of_dots[3]\n",
    "        if scalyar3 == 0 :\n",
    "            self.dot1 = list_of_dots[0]\n",
    "            self.dot2 = list_of_dots[2]\n",
    "            self.dot3 = list_of_dots[1]\n",
    "            self.dot4 = list_of_dots[3]\n",
    "        self.a = ((self.dot1[0] - self.dot2[0]) ** 2 + (self.dot1[1] - self.dot2[1]) ** 2) ** (1/2)\n",
    "        self.b = ((self.dot1[0] - self.dot4[0]) ** 2 + (self.dot1[1] - self.dot4[1]) ** 2) ** (1/2)\n",
    "    def perimetr(self):\n",
    "        return 2 * (self.a + self.b)\n",
    "    def sq(self):\n",
    "        return self.a * self.b\n",
    "\n",
    "abcd = Rectangle([[0,0],[0,1],[2,0],[2,1]])\n",
    "print(abcd.perimetr())\n",
    "print(abcd.sq())"
   ]
  },
  {
   "cell_type": "code",
   "execution_count": 2,
   "metadata": {},
   "outputs": [
    {
     "name": "stdout",
     "output_type": "stream",
     "text": [
      "20\n",
      "25\n",
      "not_rectangle\n",
      "not_rectangle\n"
     ]
    }
   ],
   "source": [
    "class Rectangle:\n",
    "    def __init__(self, list_of_dots = []):\n",
    "        list_of_dots.sort()\n",
    "        list_of_dots.sort(key=lambda elem: elem[1])\n",
    "        self.dots = list_of_dots\n",
    "        \n",
    "        if self.dots[0][1] != self.dots[1][1]:            \n",
    "            self.not_rectangle = 1\n",
    "            return\n",
    "        if self.dots[0][0] != self.dots[2][0]:\n",
    "            self.not_rectangle = 1\n",
    "            return\n",
    "        if self.dots[3][0] != self.dots[1][0] or self.dots[3][1] != self.dots[2][1]:\n",
    "            self.not_rectangle = 1\n",
    "            return\n",
    "        \n",
    "        self.not_rectangle = 0\n",
    "        self.a = self.dots[1][0] - self.dots[0][0]\n",
    "        self.b = self.dots[2][1] - self.dots[0][1]\n",
    "\n",
    "    def perimetr(self):\n",
    "        if self.not_rectangle:\n",
    "            return \"not_rectangle\"\n",
    "        return 2*(self.a+self.b)\n",
    "    \n",
    "    def square(self):\n",
    "        if self.not_rectangle:\n",
    "            return \"not_rectangle\"\n",
    "        return self.a*self.b\n",
    "\n",
    "a = Rectangle([[5,0],[0,5],[0,0],[5,5]])\n",
    "b = Rectangle([[7,0],[0,5],[0,0],[5,5]])\n",
    "\n",
    "print(a.perimetr())\n",
    "print(a.square())\n",
    "print(b.perimetr())\n",
    "print(b.square())"
   ]
  },
  {
   "cell_type": "code",
   "execution_count": 9,
   "metadata": {},
   "outputs": [],
   "source": [
    "list_of_dots = [[7,0],[0,5],[0,0],[5,5]]"
   ]
  },
  {
   "cell_type": "code",
   "execution_count": 10,
   "metadata": {},
   "outputs": [
    {
     "data": {
      "text/plain": [
       "[[0, 0], [0, 5], [5, 5], [7, 0]]"
      ]
     },
     "execution_count": 10,
     "metadata": {},
     "output_type": "execute_result"
    }
   ],
   "source": [
    "list_of_dots.sort()\n",
    "list_of_dots"
   ]
  },
  {
   "cell_type": "code",
   "execution_count": null,
   "metadata": {},
   "outputs": [],
   "source": []
  },
  {
   "cell_type": "code",
   "execution_count": null,
   "metadata": {},
   "outputs": [],
   "source": []
  },
  {
   "cell_type": "code",
   "execution_count": 11,
   "metadata": {},
   "outputs": [
    {
     "data": {
      "text/plain": [
       "[[0, 0], [7, 0], [0, 5], [5, 5]]"
      ]
     },
     "execution_count": 11,
     "metadata": {},
     "output_type": "execute_result"
    }
   ],
   "source": [
    "list_of_dots.sort(key=lambda elem: elem[1])\n",
    "list_of_dots"
   ]
  },
  {
   "cell_type": "code",
   "execution_count": 12,
   "metadata": {},
   "outputs": [],
   "source": [
    "class rectangle:\n",
    "   def _init_(self, list_of_dots = []):\n",
    "      self.dots = list_of_dots\n",
    "   def square(self):\n",
    "      return (self.dots[2, 1]-self.dots[1,1])*(self.dots[2,2]-self.dots[1,2])\n",
    "   def perimetr(self):\n",
    "      return 2*(self.dots[2, 1] - self.dots[1, 1]) + (self.dots[2, 2] - self.dots[1, 2])"
   ]
  },
  {
   "cell_type": "code",
   "execution_count": 19,
   "metadata": {},
   "outputs": [],
   "source": [
    "a = Rectangle([[5,0],[0,5],[0,0],[5,5]])"
   ]
  },
  {
   "cell_type": "code",
   "execution_count": 20,
   "metadata": {},
   "outputs": [
    {
     "data": {
      "text/plain": [
       "25"
      ]
     },
     "execution_count": 20,
     "metadata": {},
     "output_type": "execute_result"
    }
   ],
   "source": [
    "a.square()"
   ]
  },
  {
   "cell_type": "code",
   "execution_count": 21,
   "metadata": {},
   "outputs": [
    {
     "data": {
      "text/plain": [
       "20"
      ]
     },
     "execution_count": 21,
     "metadata": {},
     "output_type": "execute_result"
    }
   ],
   "source": [
    "a.perimetr()"
   ]
  },
  {
   "cell_type": "code",
   "execution_count": 18,
   "metadata": {},
   "outputs": [],
   "source": [
    "class rectangle:\n",
    "    def __init__(self, list_of_dots = []):\n",
    "        self.dots = list_of_dots\n",
    "    def square(self):\n",
    "        if self.list_of_dots[1][1] != self.list_of_dots[2][1]:\n",
    "            a = self.list_of_dots[1][1] - self.list_of_dots[2][1]\n",
    "        elif self.list_of_dots[1][1] != self.list_of_dots[3][1]:\n",
    "            a = self.list_of_dots[1][1] - self.list_of_dots[3][1]\n",
    "        else:\n",
    "            a = self.list_of_dots[1][1] - self.list_of_dots[4][1]\n",
    "\n",
    "        return(a*a)\n",
    "    def perimeter(self):\n",
    "        return(a*4)"
   ]
  },
  {
   "cell_type": "code",
   "execution_count": 31,
   "metadata": {},
   "outputs": [],
   "source": [
    "from selenium import webdriver\n",
    "from selenium.webdriver.common.keys import Keys"
   ]
  },
  {
   "cell_type": "code",
   "execution_count": 32,
   "metadata": {},
   "outputs": [],
   "source": [
    "driver_path = r'C:\\Users\\Professional\\geckodriver\\geckodriver.exe'\n",
    "driver = webdriver.Firefox(executable_path=driver_path)\n",
    "driver.get(\"http://pegasus-edu.pegasus.ponyex.local/\")"
   ]
  },
  {
   "cell_type": "code",
   "execution_count": 33,
   "metadata": {},
   "outputs": [],
   "source": [
    "element_login = driver.find_element_by_name(\"login\")\n",
    "element_password = driver.find_element_by_name(\"password\")\n",
    "element_buttom = driver.find_element_by_class_name(\"css-1hnkt5t\")\n",
    "\n",
    "element_login.send_keys(\"ext.mgu_education\")\n",
    "element_password.send_keys(\"rg#P5hZm4F\")\n",
    "element_buttom.click()"
   ]
  },
  {
   "cell_type": "code",
   "execution_count": 34,
   "metadata": {},
   "outputs": [
    {
     "name": "stdout",
     "output_type": "stream",
     "text": [
      "Success\n"
     ]
    }
   ],
   "source": [
    "try:\n",
    "    element_menuButtom = driver.find_element_by_class_name(\"bp3-button-text\")\n",
    "except:\n",
    "    print(\"Wrong login or password\")\n",
    "try:\n",
    "    element_Wrong = driver.find_element_by_class_name(\"css-hnp1e7\")\n",
    "except:\n",
    "    print(\"Success\")"
   ]
  },
  {
   "cell_type": "code",
   "execution_count": 27,
   "metadata": {},
   "outputs": [
    {
     "name": "stdout",
     "output_type": "stream",
     "text": [
      "no\n"
     ]
    }
   ],
   "source": [
    "try:\n",
    "    a = 5/0\n",
    "    print(a)\n",
    "except:\n",
    "    print('no')"
   ]
  },
  {
   "cell_type": "code",
   "execution_count": 53,
   "metadata": {},
   "outputs": [],
   "source": [
    "def SecondCase():\n",
    "    driver_path = r'C:\\Users\\Professional\\geckodriver\\geckodriver.exe'\n",
    "    driver = webdriver.Firefox(executable_path=driver_path)\n",
    "    driver.get('http://pegasus-edu.pegasus.ponyex.local/')\n",
    "    if driver.title != \"Пегас\":\n",
    "        return \"Page not found\"\n",
    "\n",
    "    element_login = driver.find_element_by_name(\"login\")\n",
    "    element_password = driver.find_element_by_name(\"password\")\n",
    "    element_buttom = driver.find_element_by_class_name(\"css-1hnkt5t\")\n",
    "\n",
    "    element_login.send_keys(\"ext.mgu_education\")\n",
    "    element_password.send_keys(\"rg#P5hZm4F\")\n",
    "    element_buttom.click()\n",
    "\n",
    "    time.sleep(5)\n",
    "\n",
    "    try:\n",
    "        element_menuButtom = driver.find_element_by_class_name(\"bp3-button-text\")\n",
    "    except:\n",
    "        driver.close()\n",
    "        return \"Wrong login or password\"\n",
    "    try:\n",
    "        element_QuitFromPage = driver.find_element_by_xpath(\"/html/body/div[1]/section/section[1]/div/div/div[2]/div/button[2]/span\")\n",
    "        element_QuitFromPage.click()\n",
    "    except:\n",
    "        time.sleep(10)\n",
    "        driver.close()\n",
    "        return \"Can't click on Quit button\"\n",
    "    time.sleep(10)\n",
    "    driver.close()\n",
    "    return\"Success\""
   ]
  },
  {
   "cell_type": "code",
   "execution_count": 54,
   "metadata": {},
   "outputs": [
    {
     "data": {
      "text/plain": [
       "'Success'"
      ]
     },
     "execution_count": 54,
     "metadata": {},
     "output_type": "execute_result"
    }
   ],
   "source": [
    "SecondCase()"
   ]
  },
  {
   "cell_type": "code",
   "execution_count": 47,
   "metadata": {},
   "outputs": [],
   "source": [
    "import time\n",
    "def FirstCase():\n",
    "    driver_path = r'C:\\Users\\Professional\\geckodriver\\geckodriver.exe'\n",
    "    driver = webdriver.Firefox(executable_path=driver_path)\n",
    "    driver.get('http://pegasus-edu.pegasus.ponyex.local/')\n",
    "    if driver.title != \"Пегас\":\n",
    "        return \"Page not found\"\n",
    "\n",
    "    element_login = driver.find_element_by_name(\"login\")\n",
    "    element_password = driver.find_element_by_name(\"password\")\n",
    "    element_buttom = driver.find_element_by_class_name(\"css-1hnkt5t\")\n",
    "\n",
    "    element_login.send_keys(\"ext.mgu_education\")\n",
    "    element_password.send_keys(\"rg#P5hZm4F\")\n",
    "    element_buttom.click()\n",
    "    \n",
    "    time.sleep(5)\n",
    "\n",
    "    try:\n",
    "        element_menuButtom = driver.find_element_by_class_name(\"bp3-button-text\")\n",
    "    except:\n",
    "        return \"Wrong login or password\"\n",
    "    try:\n",
    "        element_Wrong = driver.find_element_by_class_name(\"css-hnp1e7\")\n",
    "    except:\n",
    "        return \"Success\""
   ]
  },
  {
   "cell_type": "code",
   "execution_count": 48,
   "metadata": {},
   "outputs": [
    {
     "data": {
      "text/plain": [
       "'Success'"
      ]
     },
     "execution_count": 48,
     "metadata": {},
     "output_type": "execute_result"
    }
   ],
   "source": [
    "FirstCase()"
   ]
  },
  {
   "cell_type": "code",
   "execution_count": 2,
   "metadata": {},
   "outputs": [
    {
     "name": "stdout",
     "output_type": "stream",
     "text": [
      "20 25\n"
     ]
    }
   ],
   "source": [
    "from math import sqrt\n",
    "from math import hypot\n",
    "\n",
    "\n",
    "class Rectangle:\n",
    "    def __init__(self, list_of_dots):\n",
    "        dot1 = list_of_dots[0]\n",
    "        dot2 = list_of_dots[1]\n",
    "        dot3 = list_of_dots[2]\n",
    "        dot4 = list_of_dots[3]\n",
    "        minx = min(dot1[0], dot2[0], dot3[0], dot4[0])\n",
    "        maxx = max(dot1[0], dot2[0], dot3[0], dot4[0])\n",
    "        miny = min(dot1[1], dot2[1], dot3[1], dot4[1])\n",
    "        maxy = max(dot1[1], dot2[1], dot3[1], dot4[1])\n",
    "        self.dot_1 = [minx, miny]\n",
    "        self.dot_2 = [minx, maxy]\n",
    "        self.dot_3 = [maxx, maxy]\n",
    "        self.dot_2 = [maxx, miny]\n",
    "        self.a = maxx - minx\n",
    "        self.b = maxy - miny\n",
    "\n",
    "    def perimeter(self):\n",
    "        return 2 * (self.a + self.b)\n",
    "\n",
    "    def area(self):\n",
    "        return self.a * self.b\n",
    "\n",
    "\n",
    "\n",
    "\n",
    "lst = [[5,0],[0,5],[0,0],[5,5]]\n",
    "\n",
    "\n",
    "rec = Rectangle(lst)\n",
    "print(rec.perimeter(), rec.area())"
   ]
  },
  {
   "cell_type": "code",
   "execution_count": null,
   "metadata": {},
   "outputs": [],
   "source": []
  }
 ],
 "metadata": {
  "kernelspec": {
   "display_name": "Python 3",
   "language": "python",
   "name": "python3"
  },
  "language_info": {
   "codemirror_mode": {
    "name": "ipython",
    "version": 3
   },
   "file_extension": ".py",
   "mimetype": "text/x-python",
   "name": "python",
   "nbconvert_exporter": "python",
   "pygments_lexer": "ipython3",
   "version": "3.6.8"
  }
 },
 "nbformat": 4,
 "nbformat_minor": 2
}
