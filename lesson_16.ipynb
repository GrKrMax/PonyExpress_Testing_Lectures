{
 "cells": [
  {
   "cell_type": "code",
   "execution_count": 1,
   "metadata": {},
   "outputs": [],
   "source": [
    "import requests\n",
    "import json\n",
    "import pathes\n",
    "from selenium import webdriver"
   ]
  },
  {
   "cell_type": "code",
   "execution_count": 2,
   "metadata": {},
   "outputs": [],
   "source": [
    "headers = {'Content-Type': 'application/x-www-form-urlencoded'}\n",
    "data = {'username': pathes.login,\n",
    "          'password': pathes.password,\n",
    "          'grant_type': 'password',\n",
    "          'scope': 'pegasus',\n",
    "          'client_id': 'pegasus-v2',\n",
    "          'client_secret': 'secret'}\n",
    "\n",
    "url = \"http://srv-pnew-02-test:1001/auth/connect/token\"\n",
    "r = requests.post(url, data = data, headers = headers)\n",
    "answer = json.loads(r.text)\n",
    "token = answer[\"access_token\"]"
   ]
  },
  {
   "cell_type": "code",
   "execution_count": 3,
   "metadata": {},
   "outputs": [
    {
     "data": {
      "text/plain": [
       "'eyJhbGciOiJSUzI1NiIsImtpZCI6IjA5MzVGODBBQjM5ODg4RTQ0M0IyOTM3NjkxNUJDNTUyIiwidHlwIjoiYXQrand0In0.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.jvVyONJJxGOJyHCDo1Z8ybNwWZJGQ0kzq4IMP-B9xZECx0cRjlAT45xr5rgk3nouRco6ytmEH_2KcsPZTq2fx60oOmgkYjIxeV0CiSsnR5Z4wRyAGD2N9MMItxTWUtdqWy-9i5TbaScuCzLvPAN0LK_PkahoxQIUE48BE2mRRedG-AX1hzUjm9xSWvbZa7UWz-YviKXzsO1SgQH-eGjzZ6lFdIhG_v3VOIYZXUzWDrhz1FDXqwZO9PYBu206I_wq4rXBrTH_YfdJY19ffdI5Whvzb8UUYgZxTUMJ7IyKt4BlFCqGwsmfRj7G8SfwXTVgRi4ra_NDbQ1O3O5WUZmaMw'"
      ]
     },
     "execution_count": 3,
     "metadata": {},
     "output_type": "execute_result"
    }
   ],
   "source": [
    "token"
   ]
  },
  {
   "cell_type": "code",
   "execution_count": 4,
   "metadata": {},
   "outputs": [],
   "source": [
    "urls = [\n",
    "    'http://configurations-backend-edu.pegasus.ponyex.local/',  #0\n",
    "    'http://couriers-backend-edu.pegasus.ponyex.local/',        #1\n",
    "    'http://delivery-edu.pegasus.ponyex.local/',                #2\n",
    "    'http://delivery-backend-edu.pegasus.ponyex.local/',        #3\n",
    "    'http://enumerations-backend-edu.pegasus.ponyex.local/',    #4\n",
    "    'http://events-edu.pegasus.ponyex.local/',                  #5\n",
    "    'http://events-backend-edu.pegasus.ponyex.local/',          #6\n",
    "    'http://geography-edu.pegasus.ponyex.local/',               #7\n",
    "    'http://geography-backend-edu.pegasus.ponyex.local/',       #8\n",
    "    'http://localizations-backend-edu.pegasus.ponyex.local/',   #9\n",
    "    'http://organization-backend-edu.pegasus.ponyex.local/',    #10\n",
    "    'http://warehouses-edu.pegasus.ponyex.local/',              #11\n",
    "    'http://warehouses-backend-edu.pegasus.ponyex.local/',      #12\n",
    "    'http://waybills-backend-edu.pegasus.ponyex.local/'         #13\n",
    "]\n",
    "\n",
    "swagger_tail = 'api/manual/index.html'"
   ]
  },
  {
   "cell_type": "code",
   "execution_count": 7,
   "metadata": {},
   "outputs": [],
   "source": [
    "driver = webdriver.Firefox(executable_path=r'C:\\geckodriver.exe')\n",
    "address = urls[1] + swagger_tail\n",
    "driver.get(address)"
   ]
  },
  {
   "cell_type": "code",
   "execution_count": null,
   "metadata": {},
   "outputs": [],
   "source": []
  },
  {
   "cell_type": "code",
   "execution_count": null,
   "metadata": {},
   "outputs": [],
   "source": [
    "id_ = '2344f4b3-a7bd-4512-686d-08d8c4533103'\n",
    "url = urls[8] + f'/api/v1/addresses/get-by-id/{id_}'\n",
    "headers = {'Authorization': f'Bearer {tok}'}\n",
    "r = requests.get()"
   ]
  }
 ],
 "metadata": {
  "kernelspec": {
   "display_name": "Python 3",
   "language": "python",
   "name": "python3"
  },
  "language_info": {
   "codemirror_mode": {
    "name": "ipython",
    "version": 3
   },
   "file_extension": ".py",
   "mimetype": "text/x-python",
   "name": "python",
   "nbconvert_exporter": "python",
   "pygments_lexer": "ipython3",
   "version": "3.8.3"
  }
 },
 "nbformat": 4,
 "nbformat_minor": 4
}
