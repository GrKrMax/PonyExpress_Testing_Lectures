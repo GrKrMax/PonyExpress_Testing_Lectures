{
 "cells": [
  {
   "cell_type": "code",
   "execution_count": 15,
   "metadata": {},
   "outputs": [],
   "source": [
    "from tkinter import *\n",
    "from math import *\n",
    "import sys\n",
    "import numpy as np\n",
    "import time"
   ]
  },
  {
   "cell_type": "code",
   "execution_count": 16,
   "metadata": {},
   "outputs": [],
   "source": [
    "SIZE_X=800\n",
    "SIZE_Y=800"
   ]
  },
  {
   "cell_type": "code",
   "execution_count": 21,
   "metadata": {},
   "outputs": [],
   "source": [
    "r = Tk()\n",
    "#r.wm_attributes('-topmost', 1)\n",
    "canv = Canvas(r,width=SIZE_X,height=SIZE_Y)\n",
    "canv.pack()\n",
    "line = canv.create_polygon([100, 100] , [500, 500], [400, 300], fill = 'white', outline = 'blue')\n",
    "r.update()"
   ]
  },
  {
   "cell_type": "code",
   "execution_count": 4,
   "metadata": {},
   "outputs": [],
   "source": [
    "canv.delete(line)\n",
    "r.update()"
   ]
  },
  {
   "cell_type": "code",
   "execution_count": 22,
   "metadata": {},
   "outputs": [],
   "source": [
    "r.mainloop()"
   ]
  },
  {
   "cell_type": "code",
   "execution_count": 10,
   "metadata": {},
   "outputs": [],
   "source": [
    "class Koch:\n",
    "    \n",
    "    def __init__(self, canvas):\n",
    "        self.canvas = canvas\n",
    "        \n",
    "    def make(self, level):\n",
    "        x1 = 0\n",
    "        y1 = 0\n",
    "        x2 = 1\n",
    "        y2 = 0\n",
    "        self.segment(x1, y1, x2, y2, level)\n",
    "        \n",
    "    def T1(self, dot):\n",
    "        A = np.asarray([\n",
    "            [1, 0],\n",
    "            [0, 1]\n",
    "        ]) / 3\n",
    "        res = np.matmul(A, dot)\n",
    "        return res\n",
    "    \n",
    "    def T2(self, dot, l):\n",
    "        A = np.asarray([\n",
    "            [cos(pi/3), -sin(pi/3)],\n",
    "            [sin(pi/3), cos(pi/3)]\n",
    "        ]) / 3\n",
    "        B = np.asarray([1/3, 0])\n",
    "        res = np.matmul(A, dot) + B \n",
    "        return res\n",
    "    \n",
    "    def T3(self, dot, l):\n",
    "        A = np.asarray([\n",
    "            [-cos(pi/3), sin(pi/3)],\n",
    "            [sin(pi/3), cos(pi/3)]\n",
    "        ]) / 3\n",
    "        B = np.asarray([2/3, 0])\n",
    "        res = np.matmul(A, dot) + B\n",
    "        return res\n",
    "    \n",
    "    def T4(self, dot, l):\n",
    "        A = np.asarray([\n",
    "            [1, 0],\n",
    "            [0, 1]\n",
    "        ]) / 3\n",
    "        B = np.asarray([2/3, 0])\n",
    "        res = np.matmul(A, dot) + B \n",
    "        return res\n",
    "    \n",
    "    def ifs(self, dot, l):\n",
    "        res = []\n",
    "        res.append(self.T1(dot))\n",
    "        res.append(self.T2(dot, l))\n",
    "        res.append(self.T3(dot, l))\n",
    "        res.append(self.T4(dot, l))\n",
    "        return res\n",
    "    \n",
    "    def segment(self, x1, y1, x2, y2, level):\n",
    "        x1_canv = x1 * 600 + 100\n",
    "        y1_canv = y1*600 + SIZE_Y/2\n",
    "        x2_canv = x2*600 + 100\n",
    "        y2_canv = y2*600 + SIZE_Y/2\n",
    "        line_id = self.canvas.create_line(x1_canv, y1_canv , x2_canv, y2_canv)\n",
    "        root.update_idletasks()\n",
    "        root.update()\n",
    "        #time.sleep(0.01)\n",
    "        if level > 0:\n",
    "            self.canvas.delete(line_id)\n",
    "            l = x2 - x1\n",
    "            result_dots_1 = self.ifs([x1, y1], l)\n",
    "            result_dots_2 = self.ifs([x2, y2], l)\n",
    "            for i in range(4):\n",
    "                new_x1 = result_dots_1[i][0]\n",
    "                new_y1 = result_dots_1[i][1]\n",
    "                new_x2 = result_dots_2[i][0]\n",
    "                new_y2 = result_dots_2[i][1]\n",
    "                self.segment(new_x1, new_y1, new_x2, new_y2, level-1)\n",
    "        "
   ]
  },
  {
   "cell_type": "code",
   "execution_count": 28,
   "metadata": {},
   "outputs": [],
   "source": [
    "root = Tk()\n",
    "root.wm_attributes('-topmost', 1)\n",
    "c = Canvas(root,width=SIZE_X,height=SIZE_Y)\n",
    "c.pack()\n",
    "\n",
    "s = Koch(c)\n",
    "s.make(5)\n",
    "root.mainloop()"
   ]
  },
  {
   "cell_type": "code",
   "execution_count": null,
   "metadata": {},
   "outputs": [],
   "source": []
  }
 ],
 "metadata": {
  "kernelspec": {
   "display_name": "Python 3",
   "language": "python",
   "name": "python3"
  },
  "language_info": {
   "codemirror_mode": {
    "name": "ipython",
    "version": 3
   },
   "file_extension": ".py",
   "mimetype": "text/x-python",
   "name": "python",
   "nbconvert_exporter": "python",
   "pygments_lexer": "ipython3",
   "version": "3.6.8"
  }
 },
 "nbformat": 4,
 "nbformat_minor": 2
}
