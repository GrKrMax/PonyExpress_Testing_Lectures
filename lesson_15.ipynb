{
 "cells": [
  {
   "cell_type": "code",
   "execution_count": 1,
   "metadata": {},
   "outputs": [],
   "source": [
    "import requests\n",
    "import json\n",
    "from selenium import webdriver\n",
    "import pathes"
   ]
  },
  {
   "cell_type": "code",
   "execution_count": 2,
   "metadata": {},
   "outputs": [],
   "source": [
    "urls = [\n",
    "    'http://configurations-backend-edu.pegasus.ponyex.local/',\n",
    "    'http://couriers-backend-edu.pegasus.ponyex.local/',\n",
    "    'http://delivery-edu.pegasus.ponyex.local/',\n",
    "    'http://delivery-backend-edu.pegasus.ponyex.local/',\n",
    "    'http://enumerations-backend-edu.pegasus.ponyex.local/',\n",
    "    'http://events-edu.pegasus.ponyex.local/',\n",
    "    'http://events-backend-edu.pegasus.ponyex.local/',\n",
    "    'http://geography-edu.pegasus.ponyex.local/',\n",
    "    'http://geography-backend-edu.pegasus.ponyex.local/',\n",
    "    'http://localizations-backend-edu.pegasus.ponyex.local/',\n",
    "    'http://organization-backend-edu.pegasus.ponyex.local/',\n",
    "    'http://warehouses-edu.pegasus.ponyex.local/',\n",
    "    'http://warehouses-backend-edu.pegasus.ponyex.local/',\n",
    "    'http://waybills-backend-edu.pegasus.ponyex.local/',]\n",
    "\n",
    "swagger_tail = 'api/manual/index.html'"
   ]
  },
  {
   "cell_type": "code",
   "execution_count": 3,
   "metadata": {},
   "outputs": [
    {
     "data": {
      "text/plain": [
       "['http://configurations-backend-edu.pegasus.ponyex.local/api/manual/index.html',\n",
       " 'http://couriers-backend-edu.pegasus.ponyex.local/api/manual/index.html',\n",
       " 'http://delivery-edu.pegasus.ponyex.local/api/manual/index.html',\n",
       " 'http://delivery-backend-edu.pegasus.ponyex.local/api/manual/index.html',\n",
       " 'http://enumerations-backend-edu.pegasus.ponyex.local/api/manual/index.html',\n",
       " 'http://events-edu.pegasus.ponyex.local/api/manual/index.html',\n",
       " 'http://events-backend-edu.pegasus.ponyex.local/api/manual/index.html',\n",
       " 'http://geography-edu.pegasus.ponyex.local/api/manual/index.html',\n",
       " 'http://geography-backend-edu.pegasus.ponyex.local/api/manual/index.html',\n",
       " 'http://localizations-backend-edu.pegasus.ponyex.local/api/manual/index.html',\n",
       " 'http://organization-backend-edu.pegasus.ponyex.local/api/manual/index.html',\n",
       " 'http://warehouses-edu.pegasus.ponyex.local/api/manual/index.html',\n",
       " 'http://warehouses-backend-edu.pegasus.ponyex.local/api/manual/index.html',\n",
       " 'http://waybills-backend-edu.pegasus.ponyex.local/api/manual/index.html']"
      ]
     },
     "execution_count": 3,
     "metadata": {},
     "output_type": "execute_result"
    }
   ],
   "source": [
    "swagger_urls = []\n",
    "for url in urls:\n",
    "    swagger_urls.append(url + swagger_tail)\n",
    "swagger_urls"
   ]
  },
  {
   "cell_type": "code",
   "execution_count": 8,
   "metadata": {},
   "outputs": [],
   "source": [
    "driver = webdriver.Firefox(executable_path=pathes.driver_path)\n",
    "driver.get(urls[-1] + swagger_tail)"
   ]
  },
  {
   "cell_type": "code",
   "execution_count": 16,
   "metadata": {},
   "outputs": [
    {
     "name": "stdout",
     "output_type": "stream",
     "text": [
      "result:  8100\n"
     ]
    }
   ],
   "source": [
    "f = lambda a, b: print('result: ', ((a + b)*10)**2)\n",
    "f(4,5)"
   ]
  },
  {
   "cell_type": "code",
   "execution_count": 21,
   "metadata": {},
   "outputs": [],
   "source": [
    "def r(a, b):\n",
    "    x = lambda a, b: a + b\n",
    "    return x"
   ]
  },
  {
   "cell_type": "code",
   "execution_count": 26,
   "metadata": {},
   "outputs": [
    {
     "data": {
      "text/plain": [
       "9"
      ]
     },
     "execution_count": 26,
     "metadata": {},
     "output_type": "execute_result"
    }
   ],
   "source": [
    "r(4, 5)"
   ]
  },
  {
   "cell_type": "code",
   "execution_count": 25,
   "metadata": {},
   "outputs": [
    {
     "data": {
      "text/plain": [
       "function"
      ]
     },
     "execution_count": 25,
     "metadata": {},
     "output_type": "execute_result"
    }
   ],
   "source": [
    "type(r(4, 5))"
   ]
  },
  {
   "cell_type": "code",
   "execution_count": 27,
   "metadata": {},
   "outputs": [],
   "source": [
    "import numpy as np"
   ]
  },
  {
   "cell_type": "code",
   "execution_count": 28,
   "metadata": {},
   "outputs": [],
   "source": [
    "a = np.asarray([\n",
    "    [1, 2, 3],\n",
    "    [4, 5, 6],\n",
    "    [7, 8, 9]\n",
    "])"
   ]
  },
  {
   "cell_type": "code",
   "execution_count": 30,
   "metadata": {},
   "outputs": [],
   "source": [
    "ff = lambda x: (x+1)**2 + 3"
   ]
  },
  {
   "cell_type": "code",
   "execution_count": 31,
   "metadata": {},
   "outputs": [
    {
     "data": {
      "text/plain": [
       "array([[  7,  12,  19],\n",
       "       [ 28,  39,  52],\n",
       "       [ 67,  84, 103]], dtype=int32)"
      ]
     },
     "execution_count": 31,
     "metadata": {},
     "output_type": "execute_result"
    }
   ],
   "source": [
    "ff(a)"
   ]
  },
  {
   "cell_type": "code",
   "execution_count": 3,
   "metadata": {},
   "outputs": [
    {
     "data": {
      "text/plain": [
       "1"
      ]
     },
     "execution_count": 3,
     "metadata": {},
     "output_type": "execute_result"
    }
   ],
   "source": [
    "5%2"
   ]
  },
  {
   "cell_type": "code",
   "execution_count": 6,
   "metadata": {},
   "outputs": [],
   "source": [
    "from math import *\n",
    "import numpy as np"
   ]
  },
  {
   "cell_type": "code",
   "execution_count": 32,
   "metadata": {},
   "outputs": [],
   "source": [
    "def f(x, y):\n",
    "    result = (floor(y/17) * 2**( (-17)*floor(x) - (floor(y)%17) )) % 2\n",
    "    result = floor(result)\n",
    "    return int(result > 1/2)"
   ]
  },
  {
   "cell_type": "code",
   "execution_count": 39,
   "metadata": {},
   "outputs": [
    {
     "data": {
      "text/plain": [
       "0.0"
      ]
     },
     "execution_count": 39,
     "metadata": {},
     "output_type": "execute_result"
    }
   ],
   "source": [
    "f(105, 557045)"
   ]
  },
  {
   "cell_type": "code",
   "execution_count": 9,
   "metadata": {},
   "outputs": [],
   "source": [
    "a = np.zeros(106*17)"
   ]
  },
  {
   "cell_type": "code",
   "execution_count": 11,
   "metadata": {},
   "outputs": [],
   "source": [
    "a = a.reshape(106, 17)"
   ]
  },
  {
   "cell_type": "code",
   "execution_count": 12,
   "metadata": {},
   "outputs": [
    {
     "data": {
      "text/plain": [
       "array([[0., 0., 0., ..., 0., 0., 0.],\n",
       "       [0., 0., 0., ..., 0., 0., 0.],\n",
       "       [0., 0., 0., ..., 0., 0., 0.],\n",
       "       ...,\n",
       "       [0., 0., 0., ..., 0., 0., 0.],\n",
       "       [0., 0., 0., ..., 0., 0., 0.],\n",
       "       [0., 0., 0., ..., 0., 0., 0.]])"
      ]
     },
     "execution_count": 12,
     "metadata": {},
     "output_type": "execute_result"
    }
   ],
   "source": [
    "a"
   ]
  },
  {
   "cell_type": "code",
   "execution_count": 14,
   "metadata": {},
   "outputs": [
    {
     "data": {
      "text/plain": [
       "(106, 17)"
      ]
     },
     "execution_count": 14,
     "metadata": {},
     "output_type": "execute_result"
    }
   ],
   "source": [
    "np.shape(a)"
   ]
  },
  {
   "cell_type": "code",
   "execution_count": 35,
   "metadata": {},
   "outputs": [
    {
     "data": {
      "text/plain": [
       "1.1000000000000014"
      ]
     },
     "execution_count": 35,
     "metadata": {},
     "output_type": "execute_result"
    }
   ],
   "source": [
    "33.1 % 2"
   ]
  },
  {
   "cell_type": "code",
   "execution_count": null,
   "metadata": {},
   "outputs": [],
   "source": []
  }
 ],
 "metadata": {
  "kernelspec": {
   "display_name": "Python 3",
   "language": "python",
   "name": "python3"
  },
  "language_info": {
   "codemirror_mode": {
    "name": "ipython",
    "version": 3
   },
   "file_extension": ".py",
   "mimetype": "text/x-python",
   "name": "python",
   "nbconvert_exporter": "python",
   "pygments_lexer": "ipython3",
   "version": "3.6.8"
  }
 },
 "nbformat": 4,
 "nbformat_minor": 2
}
